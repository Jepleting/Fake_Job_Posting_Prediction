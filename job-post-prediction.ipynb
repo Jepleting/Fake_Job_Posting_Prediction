{
 "cells": [
  {
   "cell_type": "code",
   "execution_count": 1,
   "id": "103e9997",
   "metadata": {
    "_cell_guid": "b1076dfc-b9ad-4769-8c92-a6c4dae69d19",
    "_uuid": "8f2839f25d086af736a60e9eeb907d3b93b6e0e5",
    "execution": {
     "iopub.execute_input": "2022-07-21T11:13:40.902499Z",
     "iopub.status.busy": "2022-07-21T11:13:40.902028Z",
     "iopub.status.idle": "2022-07-21T11:13:40.921742Z",
     "shell.execute_reply": "2022-07-21T11:13:40.920388Z"
    },
    "papermill": {
     "duration": 0.044217,
     "end_time": "2022-07-21T11:13:40.924687",
     "exception": false,
     "start_time": "2022-07-21T11:13:40.880470",
     "status": "completed"
    },
    "tags": []
   },
   "outputs": [
    {
     "name": "stdout",
     "output_type": "stream",
     "text": [
      "/kaggle/input/real-or-fake-fake-jobposting-prediction/fake_job_postings.csv\n"
     ]
    }
   ],
   "source": [
    "# This Python 3 environment comes with many helpful analytics libraries installed\n",
    "# It is defined by the kaggle/python Docker image: https://github.com/kaggle/docker-python\n",
    "# For example, here's several helpful packages to load\n",
    "\n",
    "import numpy as np # linear algebra\n",
    "import pandas as pd # data processing, CSV file I/O (e.g. pd.read_csv)\n",
    "\n",
    "# Input data files are available in the read-only \"../input/\" directory\n",
    "# For example, running this (by clicking run or pressing Shift+Enter) will list all files under the input directory\n",
    "\n",
    "import os\n",
    "for dirname, _, filenames in os.walk('/kaggle/input'):\n",
    "    for filename in filenames:\n",
    "        print(os.path.join(dirname, filename))\n",
    "\n",
    "# You can write up to 20GB to the current directory (/kaggle/working/) that gets preserved as output when you create a version using \"Save & Run All\" \n",
    "# You can also write temporary files to /kaggle/temp/, but they won't be saved outside of the current session"
   ]
  },
  {
   "cell_type": "code",
   "execution_count": 2,
   "id": "224b1e03",
   "metadata": {
    "execution": {
     "iopub.execute_input": "2022-07-21T11:13:40.961709Z",
     "iopub.status.busy": "2022-07-21T11:13:40.961458Z",
     "iopub.status.idle": "2022-07-21T11:13:41.936159Z",
     "shell.execute_reply": "2022-07-21T11:13:41.935205Z"
    },
    "papermill": {
     "duration": 0.995457,
     "end_time": "2022-07-21T11:13:41.938571",
     "exception": false,
     "start_time": "2022-07-21T11:13:40.943114",
     "status": "completed"
    },
    "tags": []
   },
   "outputs": [],
   "source": [
    "# Import libraries needed\n",
    "\n",
    "import re #do regex operations\n",
    "from wordcloud import WordCloud,STOPWORDS \n",
    "from sklearn.preprocessing import LabelEncoder\n",
    "\n",
    "#Visualize\n",
    "import seaborn as sns\n",
    "import matplotlib.pyplot as plt\n",
    "from wordcloud import WordCloud,STOPWORDS\n",
    "#\n",
    "# metrics\n",
    "from sklearn.metrics import accuracy_score, confusion_matrix, classification_report\n",
    "from sklearn.metrics import f1_score, precision_score, recall_score\n",
    "\n",
    "# models\n",
    "from sklearn.svm import SVC"
   ]
  },
  {
   "cell_type": "code",
   "execution_count": 3,
   "id": "fd39a84d",
   "metadata": {
    "execution": {
     "iopub.execute_input": "2022-07-21T11:13:41.974675Z",
     "iopub.status.busy": "2022-07-21T11:13:41.974393Z",
     "iopub.status.idle": "2022-07-21T11:13:43.064825Z",
     "shell.execute_reply": "2022-07-21T11:13:43.063663Z"
    },
    "papermill": {
     "duration": 1.111328,
     "end_time": "2022-07-21T11:13:43.067536",
     "exception": false,
     "start_time": "2022-07-21T11:13:41.956208",
     "status": "completed"
    },
    "tags": []
   },
   "outputs": [],
   "source": [
    "# Import dataset\n",
    "JobPostDF = pd.read_csv('/kaggle/input/real-or-fake-fake-jobposting-prediction/fake_job_postings.csv')"
   ]
  },
  {
   "cell_type": "code",
   "execution_count": 4,
   "id": "1743195b",
   "metadata": {
    "execution": {
     "iopub.execute_input": "2022-07-21T11:13:43.102961Z",
     "iopub.status.busy": "2022-07-21T11:13:43.102664Z",
     "iopub.status.idle": "2022-07-21T11:13:43.126658Z",
     "shell.execute_reply": "2022-07-21T11:13:43.125831Z"
    },
    "papermill": {
     "duration": 0.044071,
     "end_time": "2022-07-21T11:13:43.128559",
     "exception": false,
     "start_time": "2022-07-21T11:13:43.084488",
     "status": "completed"
    },
    "tags": []
   },
   "outputs": [
    {
     "data": {
      "text/html": [
       "<div>\n",
       "<style scoped>\n",
       "    .dataframe tbody tr th:only-of-type {\n",
       "        vertical-align: middle;\n",
       "    }\n",
       "\n",
       "    .dataframe tbody tr th {\n",
       "        vertical-align: top;\n",
       "    }\n",
       "\n",
       "    .dataframe thead th {\n",
       "        text-align: right;\n",
       "    }\n",
       "</style>\n",
       "<table border=\"1\" class=\"dataframe\">\n",
       "  <thead>\n",
       "    <tr style=\"text-align: right;\">\n",
       "      <th></th>\n",
       "      <th>job_id</th>\n",
       "      <th>title</th>\n",
       "      <th>location</th>\n",
       "      <th>department</th>\n",
       "      <th>salary_range</th>\n",
       "      <th>company_profile</th>\n",
       "      <th>description</th>\n",
       "      <th>requirements</th>\n",
       "      <th>benefits</th>\n",
       "      <th>telecommuting</th>\n",
       "      <th>has_company_logo</th>\n",
       "      <th>has_questions</th>\n",
       "      <th>employment_type</th>\n",
       "      <th>required_experience</th>\n",
       "      <th>required_education</th>\n",
       "      <th>industry</th>\n",
       "      <th>function</th>\n",
       "      <th>fraudulent</th>\n",
       "    </tr>\n",
       "  </thead>\n",
       "  <tbody>\n",
       "    <tr>\n",
       "      <th>0</th>\n",
       "      <td>1</td>\n",
       "      <td>Marketing Intern</td>\n",
       "      <td>US, NY, New York</td>\n",
       "      <td>Marketing</td>\n",
       "      <td>NaN</td>\n",
       "      <td>We're Food52, and we've created a groundbreaki...</td>\n",
       "      <td>Food52, a fast-growing, James Beard Award-winn...</td>\n",
       "      <td>Experience with content management systems a m...</td>\n",
       "      <td>NaN</td>\n",
       "      <td>0</td>\n",
       "      <td>1</td>\n",
       "      <td>0</td>\n",
       "      <td>Other</td>\n",
       "      <td>Internship</td>\n",
       "      <td>NaN</td>\n",
       "      <td>NaN</td>\n",
       "      <td>Marketing</td>\n",
       "      <td>0</td>\n",
       "    </tr>\n",
       "    <tr>\n",
       "      <th>1</th>\n",
       "      <td>2</td>\n",
       "      <td>Customer Service - Cloud Video Production</td>\n",
       "      <td>NZ, , Auckland</td>\n",
       "      <td>Success</td>\n",
       "      <td>NaN</td>\n",
       "      <td>90 Seconds, the worlds Cloud Video Production ...</td>\n",
       "      <td>Organised - Focused - Vibrant - Awesome!Do you...</td>\n",
       "      <td>What we expect from you:Your key responsibilit...</td>\n",
       "      <td>What you will get from usThrough being part of...</td>\n",
       "      <td>0</td>\n",
       "      <td>1</td>\n",
       "      <td>0</td>\n",
       "      <td>Full-time</td>\n",
       "      <td>Not Applicable</td>\n",
       "      <td>NaN</td>\n",
       "      <td>Marketing and Advertising</td>\n",
       "      <td>Customer Service</td>\n",
       "      <td>0</td>\n",
       "    </tr>\n",
       "    <tr>\n",
       "      <th>2</th>\n",
       "      <td>3</td>\n",
       "      <td>Commissioning Machinery Assistant (CMA)</td>\n",
       "      <td>US, IA, Wever</td>\n",
       "      <td>NaN</td>\n",
       "      <td>NaN</td>\n",
       "      <td>Valor Services provides Workforce Solutions th...</td>\n",
       "      <td>Our client, located in Houston, is actively se...</td>\n",
       "      <td>Implement pre-commissioning and commissioning ...</td>\n",
       "      <td>NaN</td>\n",
       "      <td>0</td>\n",
       "      <td>1</td>\n",
       "      <td>0</td>\n",
       "      <td>NaN</td>\n",
       "      <td>NaN</td>\n",
       "      <td>NaN</td>\n",
       "      <td>NaN</td>\n",
       "      <td>NaN</td>\n",
       "      <td>0</td>\n",
       "    </tr>\n",
       "    <tr>\n",
       "      <th>3</th>\n",
       "      <td>4</td>\n",
       "      <td>Account Executive - Washington DC</td>\n",
       "      <td>US, DC, Washington</td>\n",
       "      <td>Sales</td>\n",
       "      <td>NaN</td>\n",
       "      <td>Our passion for improving quality of life thro...</td>\n",
       "      <td>THE COMPANY: ESRI – Environmental Systems Rese...</td>\n",
       "      <td>EDUCATION: Bachelor’s or Master’s in GIS, busi...</td>\n",
       "      <td>Our culture is anything but corporate—we have ...</td>\n",
       "      <td>0</td>\n",
       "      <td>1</td>\n",
       "      <td>0</td>\n",
       "      <td>Full-time</td>\n",
       "      <td>Mid-Senior level</td>\n",
       "      <td>Bachelor's Degree</td>\n",
       "      <td>Computer Software</td>\n",
       "      <td>Sales</td>\n",
       "      <td>0</td>\n",
       "    </tr>\n",
       "    <tr>\n",
       "      <th>4</th>\n",
       "      <td>5</td>\n",
       "      <td>Bill Review Manager</td>\n",
       "      <td>US, FL, Fort Worth</td>\n",
       "      <td>NaN</td>\n",
       "      <td>NaN</td>\n",
       "      <td>SpotSource Solutions LLC is a Global Human Cap...</td>\n",
       "      <td>JOB TITLE: Itemization Review ManagerLOCATION:...</td>\n",
       "      <td>QUALIFICATIONS:RN license in the State of Texa...</td>\n",
       "      <td>Full Benefits Offered</td>\n",
       "      <td>0</td>\n",
       "      <td>1</td>\n",
       "      <td>1</td>\n",
       "      <td>Full-time</td>\n",
       "      <td>Mid-Senior level</td>\n",
       "      <td>Bachelor's Degree</td>\n",
       "      <td>Hospital &amp; Health Care</td>\n",
       "      <td>Health Care Provider</td>\n",
       "      <td>0</td>\n",
       "    </tr>\n",
       "  </tbody>\n",
       "</table>\n",
       "</div>"
      ],
      "text/plain": [
       "   job_id                                      title            location  \\\n",
       "0       1                           Marketing Intern    US, NY, New York   \n",
       "1       2  Customer Service - Cloud Video Production      NZ, , Auckland   \n",
       "2       3    Commissioning Machinery Assistant (CMA)       US, IA, Wever   \n",
       "3       4          Account Executive - Washington DC  US, DC, Washington   \n",
       "4       5                        Bill Review Manager  US, FL, Fort Worth   \n",
       "\n",
       "  department salary_range                                    company_profile  \\\n",
       "0  Marketing          NaN  We're Food52, and we've created a groundbreaki...   \n",
       "1    Success          NaN  90 Seconds, the worlds Cloud Video Production ...   \n",
       "2        NaN          NaN  Valor Services provides Workforce Solutions th...   \n",
       "3      Sales          NaN  Our passion for improving quality of life thro...   \n",
       "4        NaN          NaN  SpotSource Solutions LLC is a Global Human Cap...   \n",
       "\n",
       "                                         description  \\\n",
       "0  Food52, a fast-growing, James Beard Award-winn...   \n",
       "1  Organised - Focused - Vibrant - Awesome!Do you...   \n",
       "2  Our client, located in Houston, is actively se...   \n",
       "3  THE COMPANY: ESRI – Environmental Systems Rese...   \n",
       "4  JOB TITLE: Itemization Review ManagerLOCATION:...   \n",
       "\n",
       "                                        requirements  \\\n",
       "0  Experience with content management systems a m...   \n",
       "1  What we expect from you:Your key responsibilit...   \n",
       "2  Implement pre-commissioning and commissioning ...   \n",
       "3  EDUCATION: Bachelor’s or Master’s in GIS, busi...   \n",
       "4  QUALIFICATIONS:RN license in the State of Texa...   \n",
       "\n",
       "                                            benefits  telecommuting  \\\n",
       "0                                                NaN              0   \n",
       "1  What you will get from usThrough being part of...              0   \n",
       "2                                                NaN              0   \n",
       "3  Our culture is anything but corporate—we have ...              0   \n",
       "4                              Full Benefits Offered              0   \n",
       "\n",
       "   has_company_logo  has_questions employment_type required_experience  \\\n",
       "0                 1              0           Other          Internship   \n",
       "1                 1              0       Full-time      Not Applicable   \n",
       "2                 1              0             NaN                 NaN   \n",
       "3                 1              0       Full-time    Mid-Senior level   \n",
       "4                 1              1       Full-time    Mid-Senior level   \n",
       "\n",
       "  required_education                   industry              function  \\\n",
       "0                NaN                        NaN             Marketing   \n",
       "1                NaN  Marketing and Advertising      Customer Service   \n",
       "2                NaN                        NaN                   NaN   \n",
       "3  Bachelor's Degree          Computer Software                 Sales   \n",
       "4  Bachelor's Degree     Hospital & Health Care  Health Care Provider   \n",
       "\n",
       "   fraudulent  \n",
       "0           0  \n",
       "1           0  \n",
       "2           0  \n",
       "3           0  \n",
       "4           0  "
      ]
     },
     "execution_count": 4,
     "metadata": {},
     "output_type": "execute_result"
    }
   ],
   "source": [
    "# Check dataset samples\n",
    "JobPostDF.head()"
   ]
  },
  {
   "cell_type": "code",
   "execution_count": 5,
   "id": "eacced7a",
   "metadata": {
    "execution": {
     "iopub.execute_input": "2022-07-21T11:13:43.164017Z",
     "iopub.status.busy": "2022-07-21T11:13:43.163168Z",
     "iopub.status.idle": "2022-07-21T11:13:43.171573Z",
     "shell.execute_reply": "2022-07-21T11:13:43.170744Z"
    },
    "papermill": {
     "duration": 0.027818,
     "end_time": "2022-07-21T11:13:43.173338",
     "exception": false,
     "start_time": "2022-07-21T11:13:43.145520",
     "status": "completed"
    },
    "tags": []
   },
   "outputs": [
    {
     "data": {
      "text/plain": [
       "job_id                  int64\n",
       "title                  object\n",
       "location               object\n",
       "department             object\n",
       "salary_range           object\n",
       "company_profile        object\n",
       "description            object\n",
       "requirements           object\n",
       "benefits               object\n",
       "telecommuting           int64\n",
       "has_company_logo        int64\n",
       "has_questions           int64\n",
       "employment_type        object\n",
       "required_experience    object\n",
       "required_education     object\n",
       "industry               object\n",
       "function               object\n",
       "fraudulent              int64\n",
       "dtype: object"
      ]
     },
     "execution_count": 5,
     "metadata": {},
     "output_type": "execute_result"
    }
   ],
   "source": [
    "JobPostDF.dtypes"
   ]
  },
  {
   "cell_type": "code",
   "execution_count": 6,
   "id": "bf8dbc86",
   "metadata": {
    "execution": {
     "iopub.execute_input": "2022-07-21T11:13:43.208623Z",
     "iopub.status.busy": "2022-07-21T11:13:43.207884Z",
     "iopub.status.idle": "2022-07-21T11:13:43.213970Z",
     "shell.execute_reply": "2022-07-21T11:13:43.212981Z"
    },
    "papermill": {
     "duration": 0.025701,
     "end_time": "2022-07-21T11:13:43.215964",
     "exception": false,
     "start_time": "2022-07-21T11:13:43.190263",
     "status": "completed"
    },
    "tags": []
   },
   "outputs": [
    {
     "data": {
      "text/plain": [
       "(17880, 18)"
      ]
     },
     "execution_count": 6,
     "metadata": {},
     "output_type": "execute_result"
    }
   ],
   "source": [
    "# Check dataframe shape\n",
    "JobPostDF.shape"
   ]
  },
  {
   "cell_type": "code",
   "execution_count": 7,
   "id": "bbc011ba",
   "metadata": {
    "execution": {
     "iopub.execute_input": "2022-07-21T11:13:43.252193Z",
     "iopub.status.busy": "2022-07-21T11:13:43.251731Z",
     "iopub.status.idle": "2022-07-21T11:13:43.285213Z",
     "shell.execute_reply": "2022-07-21T11:13:43.284218Z"
    },
    "papermill": {
     "duration": 0.05441,
     "end_time": "2022-07-21T11:13:43.287288",
     "exception": false,
     "start_time": "2022-07-21T11:13:43.232878",
     "status": "completed"
    },
    "tags": []
   },
   "outputs": [
    {
     "data": {
      "text/plain": [
       "salary_range           15012\n",
       "department             11547\n",
       "required_education      8105\n",
       "benefits                7210\n",
       "required_experience     7050\n",
       "function                6455\n",
       "industry                4903\n",
       "employment_type         3471\n",
       "company_profile         3308\n",
       "requirements            2695\n",
       "location                 346\n",
       "description                1\n",
       "title                      0\n",
       "dtype: int64"
      ]
     },
     "execution_count": 7,
     "metadata": {},
     "output_type": "execute_result"
    }
   ],
   "source": [
    "# Check for NaN values in the data\n",
    "JobPostDF.isnull().sum().sort_values(ascending = False).loc[JobPostDF.dtypes == 'object']"
   ]
  },
  {
   "cell_type": "code",
   "execution_count": 8,
   "id": "e892d4f1",
   "metadata": {
    "execution": {
     "iopub.execute_input": "2022-07-21T11:13:43.343187Z",
     "iopub.status.busy": "2022-07-21T11:13:43.340879Z",
     "iopub.status.idle": "2022-07-21T11:13:43.378735Z",
     "shell.execute_reply": "2022-07-21T11:13:43.376455Z"
    },
    "papermill": {
     "duration": 0.073367,
     "end_time": "2022-07-21T11:13:43.383200",
     "exception": false,
     "start_time": "2022-07-21T11:13:43.309833",
     "status": "completed"
    },
    "tags": []
   },
   "outputs": [],
   "source": [
    "# Replace NaN values with a blank entry\n",
    "JobPostDF.fillna('', inplace = True)"
   ]
  },
  {
   "cell_type": "code",
   "execution_count": 9,
   "id": "b5b5eadd",
   "metadata": {
    "execution": {
     "iopub.execute_input": "2022-07-21T11:13:43.421374Z",
     "iopub.status.busy": "2022-07-21T11:13:43.421100Z",
     "iopub.status.idle": "2022-07-21T11:13:43.455289Z",
     "shell.execute_reply": "2022-07-21T11:13:43.454304Z"
    },
    "papermill": {
     "duration": 0.055119,
     "end_time": "2022-07-21T11:13:43.457551",
     "exception": false,
     "start_time": "2022-07-21T11:13:43.402432",
     "status": "completed"
    },
    "tags": []
   },
   "outputs": [
    {
     "data": {
      "text/plain": [
       "title                  0\n",
       "function               0\n",
       "industry               0\n",
       "required_education     0\n",
       "required_experience    0\n",
       "employment_type        0\n",
       "benefits               0\n",
       "requirements           0\n",
       "description            0\n",
       "company_profile        0\n",
       "salary_range           0\n",
       "department             0\n",
       "location               0\n",
       "dtype: int64"
      ]
     },
     "execution_count": 9,
     "metadata": {},
     "output_type": "execute_result"
    }
   ],
   "source": [
    "JobPostDF.isnull().sum().sort_values(ascending = False).loc[JobPostDF.dtypes == 'object']"
   ]
  },
  {
   "cell_type": "code",
   "execution_count": 10,
   "id": "b1470e6c",
   "metadata": {
    "execution": {
     "iopub.execute_input": "2022-07-21T11:13:43.493576Z",
     "iopub.status.busy": "2022-07-21T11:13:43.493327Z",
     "iopub.status.idle": "2022-07-21T11:13:43.510188Z",
     "shell.execute_reply": "2022-07-21T11:13:43.509199Z"
    },
    "papermill": {
     "duration": 0.037154,
     "end_time": "2022-07-21T11:13:43.512462",
     "exception": false,
     "start_time": "2022-07-21T11:13:43.475308",
     "status": "completed"
    },
    "tags": []
   },
   "outputs": [
    {
     "data": {
      "text/html": [
       "<div>\n",
       "<style scoped>\n",
       "    .dataframe tbody tr th:only-of-type {\n",
       "        vertical-align: middle;\n",
       "    }\n",
       "\n",
       "    .dataframe tbody tr th {\n",
       "        vertical-align: top;\n",
       "    }\n",
       "\n",
       "    .dataframe thead th {\n",
       "        text-align: right;\n",
       "    }\n",
       "</style>\n",
       "<table border=\"1\" class=\"dataframe\">\n",
       "  <thead>\n",
       "    <tr style=\"text-align: right;\">\n",
       "      <th></th>\n",
       "      <th>job_id</th>\n",
       "      <th>title</th>\n",
       "      <th>location</th>\n",
       "      <th>department</th>\n",
       "      <th>salary_range</th>\n",
       "      <th>company_profile</th>\n",
       "      <th>description</th>\n",
       "      <th>requirements</th>\n",
       "      <th>benefits</th>\n",
       "      <th>telecommuting</th>\n",
       "      <th>has_company_logo</th>\n",
       "      <th>has_questions</th>\n",
       "      <th>employment_type</th>\n",
       "      <th>required_experience</th>\n",
       "      <th>required_education</th>\n",
       "      <th>industry</th>\n",
       "      <th>function</th>\n",
       "      <th>fraudulent</th>\n",
       "    </tr>\n",
       "  </thead>\n",
       "  <tbody>\n",
       "    <tr>\n",
       "      <th>0</th>\n",
       "      <td>1</td>\n",
       "      <td>Marketing Intern</td>\n",
       "      <td>US, NY, New York</td>\n",
       "      <td>Marketing</td>\n",
       "      <td></td>\n",
       "      <td>We're Food52, and we've created a groundbreaki...</td>\n",
       "      <td>Food52, a fast-growing, James Beard Award-winn...</td>\n",
       "      <td>Experience with content management systems a m...</td>\n",
       "      <td></td>\n",
       "      <td>0</td>\n",
       "      <td>1</td>\n",
       "      <td>0</td>\n",
       "      <td>Other</td>\n",
       "      <td>Internship</td>\n",
       "      <td></td>\n",
       "      <td></td>\n",
       "      <td>Marketing</td>\n",
       "      <td>0</td>\n",
       "    </tr>\n",
       "    <tr>\n",
       "      <th>1</th>\n",
       "      <td>2</td>\n",
       "      <td>Customer Service - Cloud Video Production</td>\n",
       "      <td>NZ, , Auckland</td>\n",
       "      <td>Success</td>\n",
       "      <td></td>\n",
       "      <td>90 Seconds, the worlds Cloud Video Production ...</td>\n",
       "      <td>Organised - Focused - Vibrant - Awesome!Do you...</td>\n",
       "      <td>What we expect from you:Your key responsibilit...</td>\n",
       "      <td>What you will get from usThrough being part of...</td>\n",
       "      <td>0</td>\n",
       "      <td>1</td>\n",
       "      <td>0</td>\n",
       "      <td>Full-time</td>\n",
       "      <td>Not Applicable</td>\n",
       "      <td></td>\n",
       "      <td>Marketing and Advertising</td>\n",
       "      <td>Customer Service</td>\n",
       "      <td>0</td>\n",
       "    </tr>\n",
       "    <tr>\n",
       "      <th>2</th>\n",
       "      <td>3</td>\n",
       "      <td>Commissioning Machinery Assistant (CMA)</td>\n",
       "      <td>US, IA, Wever</td>\n",
       "      <td></td>\n",
       "      <td></td>\n",
       "      <td>Valor Services provides Workforce Solutions th...</td>\n",
       "      <td>Our client, located in Houston, is actively se...</td>\n",
       "      <td>Implement pre-commissioning and commissioning ...</td>\n",
       "      <td></td>\n",
       "      <td>0</td>\n",
       "      <td>1</td>\n",
       "      <td>0</td>\n",
       "      <td></td>\n",
       "      <td></td>\n",
       "      <td></td>\n",
       "      <td></td>\n",
       "      <td></td>\n",
       "      <td>0</td>\n",
       "    </tr>\n",
       "    <tr>\n",
       "      <th>3</th>\n",
       "      <td>4</td>\n",
       "      <td>Account Executive - Washington DC</td>\n",
       "      <td>US, DC, Washington</td>\n",
       "      <td>Sales</td>\n",
       "      <td></td>\n",
       "      <td>Our passion for improving quality of life thro...</td>\n",
       "      <td>THE COMPANY: ESRI – Environmental Systems Rese...</td>\n",
       "      <td>EDUCATION: Bachelor’s or Master’s in GIS, busi...</td>\n",
       "      <td>Our culture is anything but corporate—we have ...</td>\n",
       "      <td>0</td>\n",
       "      <td>1</td>\n",
       "      <td>0</td>\n",
       "      <td>Full-time</td>\n",
       "      <td>Mid-Senior level</td>\n",
       "      <td>Bachelor's Degree</td>\n",
       "      <td>Computer Software</td>\n",
       "      <td>Sales</td>\n",
       "      <td>0</td>\n",
       "    </tr>\n",
       "    <tr>\n",
       "      <th>4</th>\n",
       "      <td>5</td>\n",
       "      <td>Bill Review Manager</td>\n",
       "      <td>US, FL, Fort Worth</td>\n",
       "      <td></td>\n",
       "      <td></td>\n",
       "      <td>SpotSource Solutions LLC is a Global Human Cap...</td>\n",
       "      <td>JOB TITLE: Itemization Review ManagerLOCATION:...</td>\n",
       "      <td>QUALIFICATIONS:RN license in the State of Texa...</td>\n",
       "      <td>Full Benefits Offered</td>\n",
       "      <td>0</td>\n",
       "      <td>1</td>\n",
       "      <td>1</td>\n",
       "      <td>Full-time</td>\n",
       "      <td>Mid-Senior level</td>\n",
       "      <td>Bachelor's Degree</td>\n",
       "      <td>Hospital &amp; Health Care</td>\n",
       "      <td>Health Care Provider</td>\n",
       "      <td>0</td>\n",
       "    </tr>\n",
       "  </tbody>\n",
       "</table>\n",
       "</div>"
      ],
      "text/plain": [
       "   job_id                                      title            location  \\\n",
       "0       1                           Marketing Intern    US, NY, New York   \n",
       "1       2  Customer Service - Cloud Video Production      NZ, , Auckland   \n",
       "2       3    Commissioning Machinery Assistant (CMA)       US, IA, Wever   \n",
       "3       4          Account Executive - Washington DC  US, DC, Washington   \n",
       "4       5                        Bill Review Manager  US, FL, Fort Worth   \n",
       "\n",
       "  department salary_range                                    company_profile  \\\n",
       "0  Marketing               We're Food52, and we've created a groundbreaki...   \n",
       "1    Success               90 Seconds, the worlds Cloud Video Production ...   \n",
       "2                          Valor Services provides Workforce Solutions th...   \n",
       "3      Sales               Our passion for improving quality of life thro...   \n",
       "4                          SpotSource Solutions LLC is a Global Human Cap...   \n",
       "\n",
       "                                         description  \\\n",
       "0  Food52, a fast-growing, James Beard Award-winn...   \n",
       "1  Organised - Focused - Vibrant - Awesome!Do you...   \n",
       "2  Our client, located in Houston, is actively se...   \n",
       "3  THE COMPANY: ESRI – Environmental Systems Rese...   \n",
       "4  JOB TITLE: Itemization Review ManagerLOCATION:...   \n",
       "\n",
       "                                        requirements  \\\n",
       "0  Experience with content management systems a m...   \n",
       "1  What we expect from you:Your key responsibilit...   \n",
       "2  Implement pre-commissioning and commissioning ...   \n",
       "3  EDUCATION: Bachelor’s or Master’s in GIS, busi...   \n",
       "4  QUALIFICATIONS:RN license in the State of Texa...   \n",
       "\n",
       "                                            benefits  telecommuting  \\\n",
       "0                                                                 0   \n",
       "1  What you will get from usThrough being part of...              0   \n",
       "2                                                                 0   \n",
       "3  Our culture is anything but corporate—we have ...              0   \n",
       "4                              Full Benefits Offered              0   \n",
       "\n",
       "   has_company_logo  has_questions employment_type required_experience  \\\n",
       "0                 1              0           Other          Internship   \n",
       "1                 1              0       Full-time      Not Applicable   \n",
       "2                 1              0                                       \n",
       "3                 1              0       Full-time    Mid-Senior level   \n",
       "4                 1              1       Full-time    Mid-Senior level   \n",
       "\n",
       "  required_education                   industry              function  \\\n",
       "0                                                           Marketing   \n",
       "1                     Marketing and Advertising      Customer Service   \n",
       "2                                                                       \n",
       "3  Bachelor's Degree          Computer Software                 Sales   \n",
       "4  Bachelor's Degree     Hospital & Health Care  Health Care Provider   \n",
       "\n",
       "   fraudulent  \n",
       "0           0  \n",
       "1           0  \n",
       "2           0  \n",
       "3           0  \n",
       "4           0  "
      ]
     },
     "execution_count": 10,
     "metadata": {},
     "output_type": "execute_result"
    }
   ],
   "source": [
    "JobPostDF.head()"
   ]
  },
  {
   "cell_type": "markdown",
   "id": "d82f67e0",
   "metadata": {
    "papermill": {
     "duration": 0.017365,
     "end_time": "2022-07-21T11:13:43.547277",
     "exception": false,
     "start_time": "2022-07-21T11:13:43.529912",
     "status": "completed"
    },
    "tags": []
   },
   "source": [
    "Comine columns into one for preparation for training"
   ]
  },
  {
   "cell_type": "code",
   "execution_count": 11,
   "id": "83fb17bc",
   "metadata": {
    "execution": {
     "iopub.execute_input": "2022-07-21T11:13:43.583875Z",
     "iopub.status.busy": "2022-07-21T11:13:43.583045Z",
     "iopub.status.idle": "2022-07-21T11:13:43.608210Z",
     "shell.execute_reply": "2022-07-21T11:13:43.607343Z"
    },
    "papermill": {
     "duration": 0.045305,
     "end_time": "2022-07-21T11:13:43.610068",
     "exception": false,
     "start_time": "2022-07-21T11:13:43.564763",
     "status": "completed"
    },
    "tags": []
   },
   "outputs": [
    {
     "data": {
      "text/html": [
       "<div>\n",
       "<style scoped>\n",
       "    .dataframe tbody tr th:only-of-type {\n",
       "        vertical-align: middle;\n",
       "    }\n",
       "\n",
       "    .dataframe tbody tr th {\n",
       "        vertical-align: top;\n",
       "    }\n",
       "\n",
       "    .dataframe thead th {\n",
       "        text-align: right;\n",
       "    }\n",
       "</style>\n",
       "<table border=\"1\" class=\"dataframe\">\n",
       "  <thead>\n",
       "    <tr style=\"text-align: right;\">\n",
       "      <th></th>\n",
       "      <th>job_id</th>\n",
       "      <th>title</th>\n",
       "      <th>location</th>\n",
       "      <th>department</th>\n",
       "      <th>salary_range</th>\n",
       "      <th>company_profile</th>\n",
       "      <th>description</th>\n",
       "      <th>requirements</th>\n",
       "      <th>benefits</th>\n",
       "      <th>telecommuting</th>\n",
       "      <th>has_company_logo</th>\n",
       "      <th>has_questions</th>\n",
       "      <th>employment_type</th>\n",
       "      <th>required_experience</th>\n",
       "      <th>required_education</th>\n",
       "      <th>industry</th>\n",
       "      <th>function</th>\n",
       "      <th>fraudulent</th>\n",
       "    </tr>\n",
       "  </thead>\n",
       "  <tbody>\n",
       "    <tr>\n",
       "      <th>0</th>\n",
       "      <td>1</td>\n",
       "      <td>Marketing Intern</td>\n",
       "      <td>US, NY, New York</td>\n",
       "      <td>Marketing</td>\n",
       "      <td></td>\n",
       "      <td>We're Food52, and we've created a groundbreaki...</td>\n",
       "      <td>Food52, a fast-growing, James Beard Award-winn...</td>\n",
       "      <td>Experience with content management systems a m...</td>\n",
       "      <td></td>\n",
       "      <td>0</td>\n",
       "      <td>1</td>\n",
       "      <td>0</td>\n",
       "      <td>Other</td>\n",
       "      <td>Internship</td>\n",
       "      <td></td>\n",
       "      <td></td>\n",
       "      <td>Marketing</td>\n",
       "      <td>0</td>\n",
       "    </tr>\n",
       "    <tr>\n",
       "      <th>1</th>\n",
       "      <td>2</td>\n",
       "      <td>Customer Service - Cloud Video Production</td>\n",
       "      <td>NZ, , Auckland</td>\n",
       "      <td>Success</td>\n",
       "      <td></td>\n",
       "      <td>90 Seconds, the worlds Cloud Video Production ...</td>\n",
       "      <td>Organised - Focused - Vibrant - Awesome!Do you...</td>\n",
       "      <td>What we expect from you:Your key responsibilit...</td>\n",
       "      <td>What you will get from usThrough being part of...</td>\n",
       "      <td>0</td>\n",
       "      <td>1</td>\n",
       "      <td>0</td>\n",
       "      <td>Full-time</td>\n",
       "      <td>Not Applicable</td>\n",
       "      <td></td>\n",
       "      <td>Marketing and Advertising</td>\n",
       "      <td>Customer Service</td>\n",
       "      <td>0</td>\n",
       "    </tr>\n",
       "    <tr>\n",
       "      <th>2</th>\n",
       "      <td>3</td>\n",
       "      <td>Commissioning Machinery Assistant (CMA)</td>\n",
       "      <td>US, IA, Wever</td>\n",
       "      <td></td>\n",
       "      <td></td>\n",
       "      <td>Valor Services provides Workforce Solutions th...</td>\n",
       "      <td>Our client, located in Houston, is actively se...</td>\n",
       "      <td>Implement pre-commissioning and commissioning ...</td>\n",
       "      <td></td>\n",
       "      <td>0</td>\n",
       "      <td>1</td>\n",
       "      <td>0</td>\n",
       "      <td></td>\n",
       "      <td></td>\n",
       "      <td></td>\n",
       "      <td></td>\n",
       "      <td></td>\n",
       "      <td>0</td>\n",
       "    </tr>\n",
       "    <tr>\n",
       "      <th>3</th>\n",
       "      <td>4</td>\n",
       "      <td>Account Executive - Washington DC</td>\n",
       "      <td>US, DC, Washington</td>\n",
       "      <td>Sales</td>\n",
       "      <td></td>\n",
       "      <td>Our passion for improving quality of life thro...</td>\n",
       "      <td>THE COMPANY: ESRI – Environmental Systems Rese...</td>\n",
       "      <td>EDUCATION: Bachelor’s or Master’s in GIS, busi...</td>\n",
       "      <td>Our culture is anything but corporate—we have ...</td>\n",
       "      <td>0</td>\n",
       "      <td>1</td>\n",
       "      <td>0</td>\n",
       "      <td>Full-time</td>\n",
       "      <td>Mid-Senior level</td>\n",
       "      <td>Bachelor's Degree</td>\n",
       "      <td>Computer Software</td>\n",
       "      <td>Sales</td>\n",
       "      <td>0</td>\n",
       "    </tr>\n",
       "    <tr>\n",
       "      <th>4</th>\n",
       "      <td>5</td>\n",
       "      <td>Bill Review Manager</td>\n",
       "      <td>US, FL, Fort Worth</td>\n",
       "      <td></td>\n",
       "      <td></td>\n",
       "      <td>SpotSource Solutions LLC is a Global Human Cap...</td>\n",
       "      <td>JOB TITLE: Itemization Review ManagerLOCATION:...</td>\n",
       "      <td>QUALIFICATIONS:RN license in the State of Texa...</td>\n",
       "      <td>Full Benefits Offered</td>\n",
       "      <td>0</td>\n",
       "      <td>1</td>\n",
       "      <td>1</td>\n",
       "      <td>Full-time</td>\n",
       "      <td>Mid-Senior level</td>\n",
       "      <td>Bachelor's Degree</td>\n",
       "      <td>Hospital &amp; Health Care</td>\n",
       "      <td>Health Care Provider</td>\n",
       "      <td>0</td>\n",
       "    </tr>\n",
       "  </tbody>\n",
       "</table>\n",
       "</div>"
      ],
      "text/plain": [
       "   job_id                                      title            location  \\\n",
       "0       1                           Marketing Intern    US, NY, New York   \n",
       "1       2  Customer Service - Cloud Video Production      NZ, , Auckland   \n",
       "2       3    Commissioning Machinery Assistant (CMA)       US, IA, Wever   \n",
       "3       4          Account Executive - Washington DC  US, DC, Washington   \n",
       "4       5                        Bill Review Manager  US, FL, Fort Worth   \n",
       "\n",
       "  department salary_range                                    company_profile  \\\n",
       "0  Marketing               We're Food52, and we've created a groundbreaki...   \n",
       "1    Success               90 Seconds, the worlds Cloud Video Production ...   \n",
       "2                          Valor Services provides Workforce Solutions th...   \n",
       "3      Sales               Our passion for improving quality of life thro...   \n",
       "4                          SpotSource Solutions LLC is a Global Human Cap...   \n",
       "\n",
       "                                         description  \\\n",
       "0  Food52, a fast-growing, James Beard Award-winn...   \n",
       "1  Organised - Focused - Vibrant - Awesome!Do you...   \n",
       "2  Our client, located in Houston, is actively se...   \n",
       "3  THE COMPANY: ESRI – Environmental Systems Rese...   \n",
       "4  JOB TITLE: Itemization Review ManagerLOCATION:...   \n",
       "\n",
       "                                        requirements  \\\n",
       "0  Experience with content management systems a m...   \n",
       "1  What we expect from you:Your key responsibilit...   \n",
       "2  Implement pre-commissioning and commissioning ...   \n",
       "3  EDUCATION: Bachelor’s or Master’s in GIS, busi...   \n",
       "4  QUALIFICATIONS:RN license in the State of Texa...   \n",
       "\n",
       "                                            benefits  telecommuting  \\\n",
       "0                                                                 0   \n",
       "1  What you will get from usThrough being part of...              0   \n",
       "2                                                                 0   \n",
       "3  Our culture is anything but corporate—we have ...              0   \n",
       "4                              Full Benefits Offered              0   \n",
       "\n",
       "   has_company_logo  has_questions employment_type required_experience  \\\n",
       "0                 1              0           Other          Internship   \n",
       "1                 1              0       Full-time      Not Applicable   \n",
       "2                 1              0                                       \n",
       "3                 1              0       Full-time    Mid-Senior level   \n",
       "4                 1              1       Full-time    Mid-Senior level   \n",
       "\n",
       "  required_education                   industry              function  \\\n",
       "0                                                           Marketing   \n",
       "1                     Marketing and Advertising      Customer Service   \n",
       "2                                                                       \n",
       "3  Bachelor's Degree          Computer Software                 Sales   \n",
       "4  Bachelor's Degree     Hospital & Health Care  Health Care Provider   \n",
       "\n",
       "   fraudulent  \n",
       "0           0  \n",
       "1           0  \n",
       "2           0  \n",
       "3           0  \n",
       "4           0  "
      ]
     },
     "execution_count": 11,
     "metadata": {},
     "output_type": "execute_result"
    }
   ],
   "source": [
    "# create copy\n",
    "JobPostDF_Final = JobPostDF.copy()\n",
    "JobPostDF_Final.head()"
   ]
  },
  {
   "cell_type": "code",
   "execution_count": 12,
   "id": "7a011ae9",
   "metadata": {
    "execution": {
     "iopub.execute_input": "2022-07-21T11:13:43.649035Z",
     "iopub.status.busy": "2022-07-21T11:13:43.647467Z",
     "iopub.status.idle": "2022-07-21T11:13:43.728745Z",
     "shell.execute_reply": "2022-07-21T11:13:43.727736Z"
    },
    "papermill": {
     "duration": 0.102053,
     "end_time": "2022-07-21T11:13:43.730727",
     "exception": false,
     "start_time": "2022-07-21T11:13:43.628674",
     "status": "completed"
    },
    "tags": []
   },
   "outputs": [
    {
     "data": {
      "text/html": [
       "<div>\n",
       "<style scoped>\n",
       "    .dataframe tbody tr th:only-of-type {\n",
       "        vertical-align: middle;\n",
       "    }\n",
       "\n",
       "    .dataframe tbody tr th {\n",
       "        vertical-align: top;\n",
       "    }\n",
       "\n",
       "    .dataframe thead th {\n",
       "        text-align: right;\n",
       "    }\n",
       "</style>\n",
       "<table border=\"1\" class=\"dataframe\">\n",
       "  <thead>\n",
       "    <tr style=\"text-align: right;\">\n",
       "      <th></th>\n",
       "      <th>job_id</th>\n",
       "      <th>title</th>\n",
       "      <th>location</th>\n",
       "      <th>department</th>\n",
       "      <th>salary_range</th>\n",
       "      <th>company_profile</th>\n",
       "      <th>description</th>\n",
       "      <th>requirements</th>\n",
       "      <th>benefits</th>\n",
       "      <th>telecommuting</th>\n",
       "      <th>has_company_logo</th>\n",
       "      <th>has_questions</th>\n",
       "      <th>employment_type</th>\n",
       "      <th>required_experience</th>\n",
       "      <th>required_education</th>\n",
       "      <th>industry</th>\n",
       "      <th>function</th>\n",
       "      <th>fraudulent</th>\n",
       "      <th>text-corpus</th>\n",
       "    </tr>\n",
       "  </thead>\n",
       "  <tbody>\n",
       "    <tr>\n",
       "      <th>0</th>\n",
       "      <td>1</td>\n",
       "      <td>Marketing Intern</td>\n",
       "      <td>US, NY, New York</td>\n",
       "      <td>Marketing</td>\n",
       "      <td></td>\n",
       "      <td>We're Food52, and we've created a groundbreaki...</td>\n",
       "      <td>Food52, a fast-growing, James Beard Award-winn...</td>\n",
       "      <td>Experience with content management systems a m...</td>\n",
       "      <td></td>\n",
       "      <td>0</td>\n",
       "      <td>1</td>\n",
       "      <td>0</td>\n",
       "      <td>Other</td>\n",
       "      <td>Internship</td>\n",
       "      <td></td>\n",
       "      <td></td>\n",
       "      <td>Marketing</td>\n",
       "      <td>0</td>\n",
       "      <td>Food52, a fast-growing, James Beard Award-winn...</td>\n",
       "    </tr>\n",
       "    <tr>\n",
       "      <th>1</th>\n",
       "      <td>2</td>\n",
       "      <td>Customer Service - Cloud Video Production</td>\n",
       "      <td>NZ, , Auckland</td>\n",
       "      <td>Success</td>\n",
       "      <td></td>\n",
       "      <td>90 Seconds, the worlds Cloud Video Production ...</td>\n",
       "      <td>Organised - Focused - Vibrant - Awesome!Do you...</td>\n",
       "      <td>What we expect from you:Your key responsibilit...</td>\n",
       "      <td>What you will get from usThrough being part of...</td>\n",
       "      <td>0</td>\n",
       "      <td>1</td>\n",
       "      <td>0</td>\n",
       "      <td>Full-time</td>\n",
       "      <td>Not Applicable</td>\n",
       "      <td></td>\n",
       "      <td>Marketing and Advertising</td>\n",
       "      <td>Customer Service</td>\n",
       "      <td>0</td>\n",
       "      <td>Organised - Focused - Vibrant - Awesome!Do you...</td>\n",
       "    </tr>\n",
       "    <tr>\n",
       "      <th>2</th>\n",
       "      <td>3</td>\n",
       "      <td>Commissioning Machinery Assistant (CMA)</td>\n",
       "      <td>US, IA, Wever</td>\n",
       "      <td></td>\n",
       "      <td></td>\n",
       "      <td>Valor Services provides Workforce Solutions th...</td>\n",
       "      <td>Our client, located in Houston, is actively se...</td>\n",
       "      <td>Implement pre-commissioning and commissioning ...</td>\n",
       "      <td></td>\n",
       "      <td>0</td>\n",
       "      <td>1</td>\n",
       "      <td>0</td>\n",
       "      <td></td>\n",
       "      <td></td>\n",
       "      <td></td>\n",
       "      <td></td>\n",
       "      <td></td>\n",
       "      <td>0</td>\n",
       "      <td>Our client, located in Houston, is actively se...</td>\n",
       "    </tr>\n",
       "    <tr>\n",
       "      <th>3</th>\n",
       "      <td>4</td>\n",
       "      <td>Account Executive - Washington DC</td>\n",
       "      <td>US, DC, Washington</td>\n",
       "      <td>Sales</td>\n",
       "      <td></td>\n",
       "      <td>Our passion for improving quality of life thro...</td>\n",
       "      <td>THE COMPANY: ESRI – Environmental Systems Rese...</td>\n",
       "      <td>EDUCATION: Bachelor’s or Master’s in GIS, busi...</td>\n",
       "      <td>Our culture is anything but corporate—we have ...</td>\n",
       "      <td>0</td>\n",
       "      <td>1</td>\n",
       "      <td>0</td>\n",
       "      <td>Full-time</td>\n",
       "      <td>Mid-Senior level</td>\n",
       "      <td>Bachelor's Degree</td>\n",
       "      <td>Computer Software</td>\n",
       "      <td>Sales</td>\n",
       "      <td>0</td>\n",
       "      <td>THE COMPANY: ESRI – Environmental Systems Rese...</td>\n",
       "    </tr>\n",
       "    <tr>\n",
       "      <th>4</th>\n",
       "      <td>5</td>\n",
       "      <td>Bill Review Manager</td>\n",
       "      <td>US, FL, Fort Worth</td>\n",
       "      <td></td>\n",
       "      <td></td>\n",
       "      <td>SpotSource Solutions LLC is a Global Human Cap...</td>\n",
       "      <td>JOB TITLE: Itemization Review ManagerLOCATION:...</td>\n",
       "      <td>QUALIFICATIONS:RN license in the State of Texa...</td>\n",
       "      <td>Full Benefits Offered</td>\n",
       "      <td>0</td>\n",
       "      <td>1</td>\n",
       "      <td>1</td>\n",
       "      <td>Full-time</td>\n",
       "      <td>Mid-Senior level</td>\n",
       "      <td>Bachelor's Degree</td>\n",
       "      <td>Hospital &amp; Health Care</td>\n",
       "      <td>Health Care Provider</td>\n",
       "      <td>0</td>\n",
       "      <td>JOB TITLE: Itemization Review ManagerLOCATION:...</td>\n",
       "    </tr>\n",
       "  </tbody>\n",
       "</table>\n",
       "</div>"
      ],
      "text/plain": [
       "   job_id                                      title            location  \\\n",
       "0       1                           Marketing Intern    US, NY, New York   \n",
       "1       2  Customer Service - Cloud Video Production      NZ, , Auckland   \n",
       "2       3    Commissioning Machinery Assistant (CMA)       US, IA, Wever   \n",
       "3       4          Account Executive - Washington DC  US, DC, Washington   \n",
       "4       5                        Bill Review Manager  US, FL, Fort Worth   \n",
       "\n",
       "  department salary_range                                    company_profile  \\\n",
       "0  Marketing               We're Food52, and we've created a groundbreaki...   \n",
       "1    Success               90 Seconds, the worlds Cloud Video Production ...   \n",
       "2                          Valor Services provides Workforce Solutions th...   \n",
       "3      Sales               Our passion for improving quality of life thro...   \n",
       "4                          SpotSource Solutions LLC is a Global Human Cap...   \n",
       "\n",
       "                                         description  \\\n",
       "0  Food52, a fast-growing, James Beard Award-winn...   \n",
       "1  Organised - Focused - Vibrant - Awesome!Do you...   \n",
       "2  Our client, located in Houston, is actively se...   \n",
       "3  THE COMPANY: ESRI – Environmental Systems Rese...   \n",
       "4  JOB TITLE: Itemization Review ManagerLOCATION:...   \n",
       "\n",
       "                                        requirements  \\\n",
       "0  Experience with content management systems a m...   \n",
       "1  What we expect from you:Your key responsibilit...   \n",
       "2  Implement pre-commissioning and commissioning ...   \n",
       "3  EDUCATION: Bachelor’s or Master’s in GIS, busi...   \n",
       "4  QUALIFICATIONS:RN license in the State of Texa...   \n",
       "\n",
       "                                            benefits  telecommuting  \\\n",
       "0                                                                 0   \n",
       "1  What you will get from usThrough being part of...              0   \n",
       "2                                                                 0   \n",
       "3  Our culture is anything but corporate—we have ...              0   \n",
       "4                              Full Benefits Offered              0   \n",
       "\n",
       "   has_company_logo  has_questions employment_type required_experience  \\\n",
       "0                 1              0           Other          Internship   \n",
       "1                 1              0       Full-time      Not Applicable   \n",
       "2                 1              0                                       \n",
       "3                 1              0       Full-time    Mid-Senior level   \n",
       "4                 1              1       Full-time    Mid-Senior level   \n",
       "\n",
       "  required_education                   industry              function  \\\n",
       "0                                                           Marketing   \n",
       "1                     Marketing and Advertising      Customer Service   \n",
       "2                                                                       \n",
       "3  Bachelor's Degree          Computer Software                 Sales   \n",
       "4  Bachelor's Degree     Hospital & Health Care  Health Care Provider   \n",
       "\n",
       "   fraudulent                                        text-corpus  \n",
       "0           0  Food52, a fast-growing, James Beard Award-winn...  \n",
       "1           0  Organised - Focused - Vibrant - Awesome!Do you...  \n",
       "2           0  Our client, located in Houston, is actively se...  \n",
       "3           0  THE COMPANY: ESRI – Environmental Systems Rese...  \n",
       "4           0  JOB TITLE: Itemization Review ManagerLOCATION:...  "
      ]
     },
     "execution_count": 12,
     "metadata": {},
     "output_type": "execute_result"
    }
   ],
   "source": [
    "JobPostDF_Final['text-corpus'] = JobPostDF_Final['description'] + ' ' + JobPostDF_Final['requirements']\n",
    "JobPostDF_Final.head()"
   ]
  },
  {
   "cell_type": "code",
   "execution_count": 13,
   "id": "e6832455",
   "metadata": {
    "execution": {
     "iopub.execute_input": "2022-07-21T11:13:43.777356Z",
     "iopub.status.busy": "2022-07-21T11:13:43.776962Z",
     "iopub.status.idle": "2022-07-21T11:13:43.837655Z",
     "shell.execute_reply": "2022-07-21T11:13:43.836489Z"
    },
    "papermill": {
     "duration": 0.091019,
     "end_time": "2022-07-21T11:13:43.841119",
     "exception": false,
     "start_time": "2022-07-21T11:13:43.750100",
     "status": "completed"
    },
    "tags": []
   },
   "outputs": [],
   "source": [
    "for col in JobPostDF_Final.select_dtypes(include=['object']).drop(columns=['text-corpus']):\n",
    "    JobPostDF_Final.drop(columns=[col], inplace = True)"
   ]
  },
  {
   "cell_type": "code",
   "execution_count": 14,
   "id": "e874fc1d",
   "metadata": {
    "execution": {
     "iopub.execute_input": "2022-07-21T11:13:43.891391Z",
     "iopub.status.busy": "2022-07-21T11:13:43.891082Z",
     "iopub.status.idle": "2022-07-21T11:13:43.901062Z",
     "shell.execute_reply": "2022-07-21T11:13:43.900015Z"
    },
    "papermill": {
     "duration": 0.033217,
     "end_time": "2022-07-21T11:13:43.903333",
     "exception": false,
     "start_time": "2022-07-21T11:13:43.870116",
     "status": "completed"
    },
    "tags": []
   },
   "outputs": [
    {
     "data": {
      "text/html": [
       "<div>\n",
       "<style scoped>\n",
       "    .dataframe tbody tr th:only-of-type {\n",
       "        vertical-align: middle;\n",
       "    }\n",
       "\n",
       "    .dataframe tbody tr th {\n",
       "        vertical-align: top;\n",
       "    }\n",
       "\n",
       "    .dataframe thead th {\n",
       "        text-align: right;\n",
       "    }\n",
       "</style>\n",
       "<table border=\"1\" class=\"dataframe\">\n",
       "  <thead>\n",
       "    <tr style=\"text-align: right;\">\n",
       "      <th></th>\n",
       "      <th>job_id</th>\n",
       "      <th>telecommuting</th>\n",
       "      <th>has_company_logo</th>\n",
       "      <th>has_questions</th>\n",
       "      <th>fraudulent</th>\n",
       "      <th>text-corpus</th>\n",
       "    </tr>\n",
       "  </thead>\n",
       "  <tbody>\n",
       "    <tr>\n",
       "      <th>0</th>\n",
       "      <td>1</td>\n",
       "      <td>0</td>\n",
       "      <td>1</td>\n",
       "      <td>0</td>\n",
       "      <td>0</td>\n",
       "      <td>Food52, a fast-growing, James Beard Award-winn...</td>\n",
       "    </tr>\n",
       "    <tr>\n",
       "      <th>1</th>\n",
       "      <td>2</td>\n",
       "      <td>0</td>\n",
       "      <td>1</td>\n",
       "      <td>0</td>\n",
       "      <td>0</td>\n",
       "      <td>Organised - Focused - Vibrant - Awesome!Do you...</td>\n",
       "    </tr>\n",
       "    <tr>\n",
       "      <th>2</th>\n",
       "      <td>3</td>\n",
       "      <td>0</td>\n",
       "      <td>1</td>\n",
       "      <td>0</td>\n",
       "      <td>0</td>\n",
       "      <td>Our client, located in Houston, is actively se...</td>\n",
       "    </tr>\n",
       "    <tr>\n",
       "      <th>3</th>\n",
       "      <td>4</td>\n",
       "      <td>0</td>\n",
       "      <td>1</td>\n",
       "      <td>0</td>\n",
       "      <td>0</td>\n",
       "      <td>THE COMPANY: ESRI – Environmental Systems Rese...</td>\n",
       "    </tr>\n",
       "    <tr>\n",
       "      <th>4</th>\n",
       "      <td>5</td>\n",
       "      <td>0</td>\n",
       "      <td>1</td>\n",
       "      <td>1</td>\n",
       "      <td>0</td>\n",
       "      <td>JOB TITLE: Itemization Review ManagerLOCATION:...</td>\n",
       "    </tr>\n",
       "  </tbody>\n",
       "</table>\n",
       "</div>"
      ],
      "text/plain": [
       "   job_id  telecommuting  has_company_logo  has_questions  fraudulent  \\\n",
       "0       1              0                 1              0           0   \n",
       "1       2              0                 1              0           0   \n",
       "2       3              0                 1              0           0   \n",
       "3       4              0                 1              0           0   \n",
       "4       5              0                 1              1           0   \n",
       "\n",
       "                                         text-corpus  \n",
       "0  Food52, a fast-growing, James Beard Award-winn...  \n",
       "1  Organised - Focused - Vibrant - Awesome!Do you...  \n",
       "2  Our client, located in Houston, is actively se...  \n",
       "3  THE COMPANY: ESRI – Environmental Systems Rese...  \n",
       "4  JOB TITLE: Itemization Review ManagerLOCATION:...  "
      ]
     },
     "execution_count": 14,
     "metadata": {},
     "output_type": "execute_result"
    }
   ],
   "source": [
    "JobPostDF_Final.head()"
   ]
  },
  {
   "cell_type": "code",
   "execution_count": 15,
   "id": "33e47fc1",
   "metadata": {
    "execution": {
     "iopub.execute_input": "2022-07-21T11:13:43.942936Z",
     "iopub.status.busy": "2022-07-21T11:13:43.941416Z",
     "iopub.status.idle": "2022-07-21T11:13:43.953455Z",
     "shell.execute_reply": "2022-07-21T11:13:43.952538Z"
    },
    "papermill": {
     "duration": 0.033581,
     "end_time": "2022-07-21T11:13:43.955501",
     "exception": false,
     "start_time": "2022-07-21T11:13:43.921920",
     "status": "completed"
    },
    "tags": []
   },
   "outputs": [
    {
     "data": {
      "text/html": [
       "<div>\n",
       "<style scoped>\n",
       "    .dataframe tbody tr th:only-of-type {\n",
       "        vertical-align: middle;\n",
       "    }\n",
       "\n",
       "    .dataframe tbody tr th {\n",
       "        vertical-align: top;\n",
       "    }\n",
       "\n",
       "    .dataframe thead th {\n",
       "        text-align: right;\n",
       "    }\n",
       "</style>\n",
       "<table border=\"1\" class=\"dataframe\">\n",
       "  <thead>\n",
       "    <tr style=\"text-align: right;\">\n",
       "      <th></th>\n",
       "      <th>fraudulent</th>\n",
       "      <th>text-corpus</th>\n",
       "    </tr>\n",
       "  </thead>\n",
       "  <tbody>\n",
       "    <tr>\n",
       "      <th>0</th>\n",
       "      <td>0</td>\n",
       "      <td>Food52, a fast-growing, James Beard Award-winn...</td>\n",
       "    </tr>\n",
       "    <tr>\n",
       "      <th>1</th>\n",
       "      <td>0</td>\n",
       "      <td>Organised - Focused - Vibrant - Awesome!Do you...</td>\n",
       "    </tr>\n",
       "    <tr>\n",
       "      <th>2</th>\n",
       "      <td>0</td>\n",
       "      <td>Our client, located in Houston, is actively se...</td>\n",
       "    </tr>\n",
       "    <tr>\n",
       "      <th>3</th>\n",
       "      <td>0</td>\n",
       "      <td>THE COMPANY: ESRI – Environmental Systems Rese...</td>\n",
       "    </tr>\n",
       "    <tr>\n",
       "      <th>4</th>\n",
       "      <td>0</td>\n",
       "      <td>JOB TITLE: Itemization Review ManagerLOCATION:...</td>\n",
       "    </tr>\n",
       "  </tbody>\n",
       "</table>\n",
       "</div>"
      ],
      "text/plain": [
       "   fraudulent                                        text-corpus\n",
       "0           0  Food52, a fast-growing, James Beard Award-winn...\n",
       "1           0  Organised - Focused - Vibrant - Awesome!Do you...\n",
       "2           0  Our client, located in Houston, is actively se...\n",
       "3           0  THE COMPANY: ESRI – Environmental Systems Rese...\n",
       "4           0  JOB TITLE: Itemization Review ManagerLOCATION:..."
      ]
     },
     "execution_count": 15,
     "metadata": {},
     "output_type": "execute_result"
    }
   ],
   "source": [
    "JobPostDF_Final = JobPostDF_Final.drop(columns=['job_id','telecommuting', 'has_company_logo', 'has_questions'])\n",
    "JobPostDF_Final.head()"
   ]
  },
  {
   "cell_type": "code",
   "execution_count": 16,
   "id": "edcd620e",
   "metadata": {
    "execution": {
     "iopub.execute_input": "2022-07-21T11:13:43.994135Z",
     "iopub.status.busy": "2022-07-21T11:13:43.993485Z",
     "iopub.status.idle": "2022-07-21T11:13:43.999729Z",
     "shell.execute_reply": "2022-07-21T11:13:43.998834Z"
    },
    "papermill": {
     "duration": 0.027452,
     "end_time": "2022-07-21T11:13:44.001644",
     "exception": false,
     "start_time": "2022-07-21T11:13:43.974192",
     "status": "completed"
    },
    "tags": []
   },
   "outputs": [
    {
     "data": {
      "text/plain": [
       "'Food52, a fast-growing, James Beard Award-winning online food community and crowd-sourced and curated recipe hub, is currently interviewing full- and part-time unpaid interns to work in a small team of editors, executives, and developers in its New York City headquarters.Reproducing and/or repackaging existing Food52 content for a number of partner sites, such as Huffington Post, Yahoo, Buzzfeed, and more in their various content management systemsResearching blogs and websites for the Provisions by Food52 Affiliate ProgramAssisting in day-to-day affiliate program support, such as screening affiliates and assisting in any affiliate inquiriesSupporting with PR &amp; Events when neededHelping with office administrative work, such as filing, mailing, and preparing for meetingsWorking with developers to document bugs and suggest improvements to the siteSupporting the marketing and executive staff Experience with content management systems a major plus (any blogging counts!)Familiar with the Food52 editorial voice and aestheticLoves food, appreciates the importance of home cooking and cooking with the seasonsMeticulous editor, perfectionist, obsessive attention to detail, maddened by typos and broken links, delighted by finding and fixing themCheerful under pressureExcellent communication skillsA+ multi-tasker and juggler of responsibilities big and smallInterested in and engaged with social media like Twitter, Facebook, and PinterestLoves problem-solving and collaborating to drive Food52 forwardThinks big picture but pitches in on the nitty gritty of running a small company (dishes, shopping, administrative support)Comfortable with the realities of working for a startup: being on call on evenings and weekends, and working long hours'"
      ]
     },
     "execution_count": 16,
     "metadata": {},
     "output_type": "execute_result"
    }
   ],
   "source": [
    "JobPostDF_Final['text-corpus'][0]"
   ]
  },
  {
   "cell_type": "markdown",
   "id": "e6744edd",
   "metadata": {
    "papermill": {
     "duration": 0.018329,
     "end_time": "2022-07-21T11:13:44.038521",
     "exception": false,
     "start_time": "2022-07-21T11:13:44.020192",
     "status": "completed"
    },
    "tags": []
   },
   "source": [
    "# Data Cleaning"
   ]
  },
  {
   "cell_type": "code",
   "execution_count": 17,
   "id": "08227a50",
   "metadata": {
    "execution": {
     "iopub.execute_input": "2022-07-21T11:13:44.077589Z",
     "iopub.status.busy": "2022-07-21T11:13:44.076766Z",
     "iopub.status.idle": "2022-07-21T11:13:44.459433Z",
     "shell.execute_reply": "2022-07-21T11:13:44.449849Z"
    },
    "papermill": {
     "duration": 0.406612,
     "end_time": "2022-07-21T11:13:44.463757",
     "exception": false,
     "start_time": "2022-07-21T11:13:44.057145",
     "status": "completed"
    },
    "tags": []
   },
   "outputs": [],
   "source": [
    "import nltk\n",
    "from nltk.tokenize import word_tokenize, RegexpTokenizer\n",
    "from nltk.corpus import stopwords\n",
    "from nltk.stem import PorterStemmer\n",
    "from nltk import tokenize\n",
    "from nltk.stem import WordNetLemmatizer"
   ]
  },
  {
   "cell_type": "code",
   "execution_count": 18,
   "id": "7a0a3713",
   "metadata": {
    "execution": {
     "iopub.execute_input": "2022-07-21T11:13:44.547675Z",
     "iopub.status.busy": "2022-07-21T11:13:44.547254Z",
     "iopub.status.idle": "2022-07-21T11:13:44.555646Z",
     "shell.execute_reply": "2022-07-21T11:13:44.554777Z"
    },
    "papermill": {
     "duration": 0.063738,
     "end_time": "2022-07-21T11:13:44.561435",
     "exception": false,
     "start_time": "2022-07-21T11:13:44.497697",
     "status": "completed"
    },
    "tags": []
   },
   "outputs": [],
   "source": [
    "# tokenize\n",
    "def remove(text):\n",
    "    words = nltk.RegexpTokenizer(r\"\\w+\").tokenize(text)\n",
    "    \n",
    "    return words"
   ]
  },
  {
   "cell_type": "code",
   "execution_count": 19,
   "id": "67a43489",
   "metadata": {
    "execution": {
     "iopub.execute_input": "2022-07-21T11:13:44.623091Z",
     "iopub.status.busy": "2022-07-21T11:13:44.622543Z",
     "iopub.status.idle": "2022-07-21T11:13:44.636680Z",
     "shell.execute_reply": "2022-07-21T11:13:44.635653Z"
    },
    "papermill": {
     "duration": 0.047927,
     "end_time": "2022-07-21T11:13:44.639408",
     "exception": false,
     "start_time": "2022-07-21T11:13:44.591481",
     "status": "completed"
    },
    "tags": []
   },
   "outputs": [],
   "source": [
    "# remove stopwords function\n",
    "stop = set(stopwords.words('english'))\n",
    "def test(text):\n",
    "    words = remove(text)\n",
    "    stripped_phrase = []\n",
    "    for word in words:\n",
    "        if word not in stop:\n",
    "            stripped_phrase.append(word)\n",
    "\n",
    "    return \" \".join(stripped_phrase)"
   ]
  },
  {
   "cell_type": "code",
   "execution_count": 20,
   "id": "1a40185d",
   "metadata": {
    "execution": {
     "iopub.execute_input": "2022-07-21T11:13:44.714653Z",
     "iopub.status.busy": "2022-07-21T11:13:44.714261Z",
     "iopub.status.idle": "2022-07-21T11:13:44.721304Z",
     "shell.execute_reply": "2022-07-21T11:13:44.720124Z"
    },
    "papermill": {
     "duration": 0.044952,
     "end_time": "2022-07-21T11:13:44.724978",
     "exception": false,
     "start_time": "2022-07-21T11:13:44.680026",
     "status": "completed"
    },
    "tags": []
   },
   "outputs": [],
   "source": [
    "# perform stemming function\n",
    "\n",
    "def stem(text):\n",
    "    stemmer = PorterStemmer()\n",
    "    stemmed_phrase = []\n",
    "    words = remove(text)\n",
    "    for word in words:\n",
    "        stemmed_phrase.append(stemmer.stem(word))\n",
    "    \n",
    "    return \" \".join(stemmed_phrase)"
   ]
  },
  {
   "cell_type": "code",
   "execution_count": 21,
   "id": "54e0ca4d",
   "metadata": {
    "execution": {
     "iopub.execute_input": "2022-07-21T11:13:44.789730Z",
     "iopub.status.busy": "2022-07-21T11:13:44.789332Z",
     "iopub.status.idle": "2022-07-21T11:13:47.981577Z",
     "shell.execute_reply": "2022-07-21T11:13:47.980675Z"
    },
    "papermill": {
     "duration": 3.226987,
     "end_time": "2022-07-21T11:13:47.983698",
     "exception": false,
     "start_time": "2022-07-21T11:13:44.756711",
     "status": "completed"
    },
    "tags": []
   },
   "outputs": [
    {
     "data": {
      "text/plain": [
       "'Food52 fast growing James Beard Award winning online food community crowd sourced curated recipe hub currently interviewing full part time unpaid interns work small team editors executives developers New York City headquarters Reproducing repackaging existing Food52 content number partner sites Huffington Post Yahoo Buzzfeed various content management systemsResearching blogs websites Provisions Food52 Affiliate ProgramAssisting day day affiliate program support screening affiliates assisting affiliate inquiriesSupporting PR amp Events neededHelping office administrative work filing mailing preparing meetingsWorking developers document bugs suggest improvements siteSupporting marketing executive staff Experience content management systems major plus blogging counts Familiar Food52 editorial voice aestheticLoves food appreciates importance home cooking cooking seasonsMeticulous editor perfectionist obsessive attention detail maddened typos broken links delighted finding fixing themCheerful pressureExcellent communication skillsA multi tasker juggler responsibilities big smallInterested engaged social media like Twitter Facebook PinterestLoves problem solving collaborating drive Food52 forwardThinks big picture pitches nitty gritty running small company dishes shopping administrative support Comfortable realities working startup call evenings weekends working long hours'"
      ]
     },
     "execution_count": 21,
     "metadata": {},
     "output_type": "execute_result"
    }
   ],
   "source": [
    "# remove stopwords\n",
    "JobPostDF_Final['text-corpus'] = JobPostDF_Final['text-corpus'].apply(test)\n",
    "JobPostDF_Final['text-corpus'][0]"
   ]
  },
  {
   "cell_type": "code",
   "execution_count": 22,
   "id": "803cb969",
   "metadata": {
    "execution": {
     "iopub.execute_input": "2022-07-21T11:13:48.023924Z",
     "iopub.status.busy": "2022-07-21T11:13:48.023153Z",
     "iopub.status.idle": "2022-07-21T11:15:13.869592Z",
     "shell.execute_reply": "2022-07-21T11:15:13.868667Z"
    },
    "papermill": {
     "duration": 85.891918,
     "end_time": "2022-07-21T11:15:13.895364",
     "exception": false,
     "start_time": "2022-07-21T11:13:48.003446",
     "status": "completed"
    },
    "tags": []
   },
   "outputs": [
    {
     "data": {
      "text/plain": [
       "'food52 fast grow jame beard award win onlin food commun crowd sourc curat recip hub current interview full part time unpaid intern work small team editor execut develop new york citi headquart reproduc repackag exist food52 content number partner site huffington post yahoo buzzfe variou content manag systemsresearch blog websit provis food52 affili programassist day day affili program support screen affili assist affili inquiriessupport PR amp event neededhelp offic administr work file mail prepar meetingswork develop document bug suggest improv sitesupport market execut staff experi content manag system major plu blog count familiar food52 editori voic aestheticlov food appreci import home cook cook seasonsmeticul editor perfectionist obsess attent detail madden typo broken link delight find fix themcheer pressureexcel commun skillsa multi tasker juggler respons big smallinterest engag social media like twitter facebook pinterestlov problem solv collabor drive food52 forwardthink big pictur pitch nitti gritti run small compani dish shop administr support comfort realiti work startup call even weekend work long hour'"
      ]
     },
     "execution_count": 22,
     "metadata": {},
     "output_type": "execute_result"
    }
   ],
   "source": [
    "# Perform stemming\n",
    "JobPostDF_Final['text-corpus'] = JobPostDF_Final['text-corpus'].apply(stem)\n",
    "JobPostDF_Final['text-corpus'][0]"
   ]
  },
  {
   "cell_type": "markdown",
   "id": "7090fc5e",
   "metadata": {
    "papermill": {
     "duration": 0.019204,
     "end_time": "2022-07-21T11:15:13.933475",
     "exception": false,
     "start_time": "2022-07-21T11:15:13.914271",
     "status": "completed"
    },
    "tags": []
   },
   "source": [
    "# Convert to vectors before training"
   ]
  },
  {
   "cell_type": "code",
   "execution_count": 23,
   "id": "6bde2ba4",
   "metadata": {
    "execution": {
     "iopub.execute_input": "2022-07-21T11:15:13.973270Z",
     "iopub.status.busy": "2022-07-21T11:15:13.972662Z",
     "iopub.status.idle": "2022-07-21T11:15:13.977062Z",
     "shell.execute_reply": "2022-07-21T11:15:13.976049Z"
    },
    "papermill": {
     "duration": 0.026337,
     "end_time": "2022-07-21T11:15:13.979375",
     "exception": false,
     "start_time": "2022-07-21T11:15:13.953038",
     "status": "completed"
    },
    "tags": []
   },
   "outputs": [],
   "source": [
    "# from sklearn.feature_extraction.text import CountVectorizer, TfidfVectorizer\n",
    "\n",
    "# corpus = JobPostDF_Final['text-corpus'].values\n",
    "# corpus\n",
    "\n",
    "# # create vectorizer\n",
    "# vectorizer = CountVectorizer(min_df=0,max_df=1,binary=False,ngram_range=(2,3))\n",
    "\n",
    "# # Converting the text to numeric data\n",
    "# X = vectorizer.fit_transform(corpus)\n",
    "\n",
    "# # add to new dataframe\n",
    "# CountVectorizedData=pd.DataFrame(X.toarray(), columns=vectorizer.get_feature_names_out())\n",
    "# CountVectorizedData['fraudulent'] = JobPostDF_Final['fraudulent']\n",
    "# CountVectorizedData.head()"
   ]
  },
  {
   "cell_type": "markdown",
   "id": "4800a6ef",
   "metadata": {
    "papermill": {
     "duration": 0.018678,
     "end_time": "2022-07-21T11:15:14.016759",
     "exception": false,
     "start_time": "2022-07-21T11:15:13.998081",
     "status": "completed"
    },
    "tags": []
   },
   "source": [
    "# Extract features"
   ]
  },
  {
   "cell_type": "code",
   "execution_count": 24,
   "id": "3b2251c8",
   "metadata": {
    "execution": {
     "iopub.execute_input": "2022-07-21T11:15:14.055419Z",
     "iopub.status.busy": "2022-07-21T11:15:14.055146Z",
     "iopub.status.idle": "2022-07-21T11:15:14.061193Z",
     "shell.execute_reply": "2022-07-21T11:15:14.060311Z"
    },
    "papermill": {
     "duration": 0.027749,
     "end_time": "2022-07-21T11:15:14.063147",
     "exception": false,
     "start_time": "2022-07-21T11:15:14.035398",
     "status": "completed"
    },
    "tags": []
   },
   "outputs": [
    {
     "data": {
      "text/plain": [
       "(17880,)"
      ]
     },
     "execution_count": 24,
     "metadata": {},
     "output_type": "execute_result"
    }
   ],
   "source": [
    "# Get independent(X) features\n",
    "X = JobPostDF_Final['text-corpus']\n",
    "X.shape"
   ]
  },
  {
   "cell_type": "code",
   "execution_count": 25,
   "id": "f601106a",
   "metadata": {
    "execution": {
     "iopub.execute_input": "2022-07-21T11:15:14.102715Z",
     "iopub.status.busy": "2022-07-21T11:15:14.102456Z",
     "iopub.status.idle": "2022-07-21T11:15:14.109756Z",
     "shell.execute_reply": "2022-07-21T11:15:14.108848Z"
    },
    "papermill": {
     "duration": 0.02879,
     "end_time": "2022-07-21T11:15:14.111621",
     "exception": false,
     "start_time": "2022-07-21T11:15:14.082831",
     "status": "completed"
    },
    "tags": []
   },
   "outputs": [
    {
     "data": {
      "text/plain": [
       "0    food52 fast grow jame beard award win onlin fo...\n",
       "1    organis focus vibrant awesom Do passion custom...\n",
       "2    our client locat houston activ seek experienc ...\n",
       "3    the compani esri environment system research i...\n",
       "4    job titl item review managerloc fort worth TX ...\n",
       "Name: text-corpus, dtype: object"
      ]
     },
     "execution_count": 25,
     "metadata": {},
     "output_type": "execute_result"
    }
   ],
   "source": [
    "# Show head\n",
    "X.head()"
   ]
  },
  {
   "cell_type": "code",
   "execution_count": 26,
   "id": "dae5dc1d",
   "metadata": {
    "execution": {
     "iopub.execute_input": "2022-07-21T11:15:14.154624Z",
     "iopub.status.busy": "2022-07-21T11:15:14.154347Z",
     "iopub.status.idle": "2022-07-21T11:15:14.161475Z",
     "shell.execute_reply": "2022-07-21T11:15:14.160483Z"
    },
    "papermill": {
     "duration": 0.032688,
     "end_time": "2022-07-21T11:15:14.163747",
     "exception": false,
     "start_time": "2022-07-21T11:15:14.131059",
     "status": "completed"
    },
    "tags": []
   },
   "outputs": [
    {
     "data": {
      "text/plain": [
       "(17880,)"
      ]
     },
     "execution_count": 26,
     "metadata": {},
     "output_type": "execute_result"
    }
   ],
   "source": [
    "# Get Dependent(Y) features\n",
    "Y = JobPostDF_Final['fraudulent']\n",
    "Y.shape"
   ]
  },
  {
   "cell_type": "code",
   "execution_count": 27,
   "id": "dd5fb7a2",
   "metadata": {
    "execution": {
     "iopub.execute_input": "2022-07-21T11:15:14.210250Z",
     "iopub.status.busy": "2022-07-21T11:15:14.209964Z",
     "iopub.status.idle": "2022-07-21T11:15:14.219746Z",
     "shell.execute_reply": "2022-07-21T11:15:14.218831Z"
    },
    "papermill": {
     "duration": 0.035911,
     "end_time": "2022-07-21T11:15:14.221930",
     "exception": false,
     "start_time": "2022-07-21T11:15:14.186019",
     "status": "completed"
    },
    "tags": []
   },
   "outputs": [],
   "source": [
    "from sklearn.model_selection import train_test_split\n",
    "\n",
    "train_X, test_X, train_y, test_y = train_test_split(X, Y, test_size = 0.2, random_state = 0)"
   ]
  },
  {
   "cell_type": "code",
   "execution_count": 28,
   "id": "2f0439e0",
   "metadata": {
    "execution": {
     "iopub.execute_input": "2022-07-21T11:15:14.266748Z",
     "iopub.status.busy": "2022-07-21T11:15:14.266485Z",
     "iopub.status.idle": "2022-07-21T11:15:14.272044Z",
     "shell.execute_reply": "2022-07-21T11:15:14.270964Z"
    },
    "papermill": {
     "duration": 0.029047,
     "end_time": "2022-07-21T11:15:14.273993",
     "exception": false,
     "start_time": "2022-07-21T11:15:14.244946",
     "status": "completed"
    },
    "tags": []
   },
   "outputs": [],
   "source": [
    "encoder = LabelEncoder()\n",
    "train_y = encoder.fit_transform(train_y)\n",
    "test_y = encoder.fit_transform(test_y)"
   ]
  },
  {
   "cell_type": "code",
   "execution_count": 29,
   "id": "721abd77",
   "metadata": {
    "execution": {
     "iopub.execute_input": "2022-07-21T11:15:14.313973Z",
     "iopub.status.busy": "2022-07-21T11:15:14.313703Z",
     "iopub.status.idle": "2022-07-21T11:15:14.317534Z",
     "shell.execute_reply": "2022-07-21T11:15:14.316666Z"
    },
    "papermill": {
     "duration": 0.026141,
     "end_time": "2022-07-21T11:15:14.319663",
     "exception": false,
     "start_time": "2022-07-21T11:15:14.293522",
     "status": "completed"
    },
    "tags": []
   },
   "outputs": [],
   "source": [
    "# transform data to count matrix\n",
    "MAX = 3000"
   ]
  },
  {
   "cell_type": "code",
   "execution_count": 30,
   "id": "07b593b8",
   "metadata": {
    "execution": {
     "iopub.execute_input": "2022-07-21T11:15:14.360922Z",
     "iopub.status.busy": "2022-07-21T11:15:14.360649Z",
     "iopub.status.idle": "2022-07-21T11:15:17.416049Z",
     "shell.execute_reply": "2022-07-21T11:15:17.414401Z"
    },
    "papermill": {
     "duration": 3.078454,
     "end_time": "2022-07-21T11:15:17.418479",
     "exception": false,
     "start_time": "2022-07-21T11:15:14.340025",
     "status": "completed"
    },
    "tags": []
   },
   "outputs": [
    {
     "name": "stdout",
     "output_type": "stream",
     "text": [
      "Tfidf_train :  (14304, 3000)\n",
      "Tfidf_test :  (3576, 3000)\n"
     ]
    }
   ],
   "source": [
    "from sklearn.feature_extraction.text import CountVectorizer, TfidfVectorizer\n",
    "# tfid = TfidfVectorizer(min_df=0, max_df=1, ngram_range=(1,3))\n",
    "tfid = TfidfVectorizer(max_features = MAX,use_idf=True)\n",
    "# cv=CountVectorizer(min_df=0,max_df=1,binary=False,ngram_range=(2,3))\n",
    "\n",
    "# Transform train set\n",
    "tfid_train = tfid.fit_transform(train_X)\n",
    "# cv_train = cv.fit_transform(train_X)\n",
    "\n",
    "# Transform test set\n",
    "tfid_test = tfid.fit_transform(test_X)\n",
    "# cv_test = cv.fit_transform(test_X)\n",
    "\n",
    "print('Tfidf_train : ', tfid_train.shape)\n",
    "# print('cv_train : ', cv_train.shape)\n",
    "\n",
    "print('Tfidf_test : ', tfid_test.shape)\n",
    "# print('cv_test : ', cv_test.shape)\n"
   ]
  },
  {
   "cell_type": "code",
   "execution_count": null,
   "id": "3f2b3874",
   "metadata": {
    "papermill": {
     "duration": 0.019301,
     "end_time": "2022-07-21T11:15:17.457492",
     "exception": false,
     "start_time": "2022-07-21T11:15:17.438191",
     "status": "completed"
    },
    "tags": []
   },
   "outputs": [],
   "source": []
  },
  {
   "cell_type": "markdown",
   "id": "dd9196bc",
   "metadata": {
    "papermill": {
     "duration": 0.01912,
     "end_time": "2022-07-21T11:15:17.495804",
     "exception": false,
     "start_time": "2022-07-21T11:15:17.476684",
     "status": "completed"
    },
    "tags": []
   },
   "source": [
    "# Modelling"
   ]
  },
  {
   "cell_type": "markdown",
   "id": "2751596a",
   "metadata": {
    "papermill": {
     "duration": 0.018842,
     "end_time": "2022-07-21T11:15:17.533654",
     "exception": false,
     "start_time": "2022-07-21T11:15:17.514812",
     "status": "completed"
    },
    "tags": []
   },
   "source": [
    "Naive Bayes"
   ]
  },
  {
   "cell_type": "code",
   "execution_count": 31,
   "id": "24ddd886",
   "metadata": {
    "execution": {
     "iopub.execute_input": "2022-07-21T11:15:17.573130Z",
     "iopub.status.busy": "2022-07-21T11:15:17.572765Z",
     "iopub.status.idle": "2022-07-21T11:15:17.594439Z",
     "shell.execute_reply": "2022-07-21T11:15:17.593044Z"
    },
    "papermill": {
     "duration": 0.04427,
     "end_time": "2022-07-21T11:15:17.596908",
     "exception": false,
     "start_time": "2022-07-21T11:15:17.552638",
     "status": "completed"
    },
    "tags": []
   },
   "outputs": [
    {
     "name": "stdout",
     "output_type": "stream",
     "text": [
      "MultinomialNB()\n"
     ]
    }
   ],
   "source": [
    "from sklearn.naive_bayes import GaussianNB, MultinomialNB\n",
    "# set the model\n",
    "nb_model = MultinomialNB()\n",
    "# nb_model = GaussianNB()\n",
    "\n",
    "# fit the dataset\n",
    "nb_tfidf = nb_model.fit(tfid_train, train_y)\n",
    "print(nb_tfidf)"
   ]
  },
  {
   "cell_type": "markdown",
   "id": "44de90cc",
   "metadata": {
    "papermill": {
     "duration": 0.019096,
     "end_time": "2022-07-21T11:15:17.635949",
     "exception": false,
     "start_time": "2022-07-21T11:15:17.616853",
     "status": "completed"
    },
    "tags": []
   },
   "source": [
    "# Evaluate model"
   ]
  },
  {
   "cell_type": "code",
   "execution_count": 32,
   "id": "1a956c96",
   "metadata": {
    "execution": {
     "iopub.execute_input": "2022-07-21T11:15:17.676242Z",
     "iopub.status.busy": "2022-07-21T11:15:17.675457Z",
     "iopub.status.idle": "2022-07-21T11:15:17.682691Z",
     "shell.execute_reply": "2022-07-21T11:15:17.681734Z"
    },
    "papermill": {
     "duration": 0.029759,
     "end_time": "2022-07-21T11:15:17.684841",
     "exception": false,
     "start_time": "2022-07-21T11:15:17.655082",
     "status": "completed"
    },
    "tags": []
   },
   "outputs": [],
   "source": [
    "nb_tfidf_predict = nb_model.predict(tfid_test)"
   ]
  },
  {
   "cell_type": "code",
   "execution_count": 33,
   "id": "661422f7",
   "metadata": {
    "execution": {
     "iopub.execute_input": "2022-07-21T11:15:17.724946Z",
     "iopub.status.busy": "2022-07-21T11:15:17.724150Z",
     "iopub.status.idle": "2022-07-21T11:15:17.730807Z",
     "shell.execute_reply": "2022-07-21T11:15:17.729850Z"
    },
    "papermill": {
     "duration": 0.029003,
     "end_time": "2022-07-21T11:15:17.733257",
     "exception": false,
     "start_time": "2022-07-21T11:15:17.704254",
     "status": "completed"
    },
    "tags": []
   },
   "outputs": [
    {
     "name": "stdout",
     "output_type": "stream",
     "text": [
      "Accuracy  85.9 %\n"
     ]
    }
   ],
   "source": [
    "#Accuracy score for tfidf features\n",
    "\n",
    "nb_tfidf_score=accuracy_score(test_y, nb_tfidf_predict)\n",
    "print(\"Accuracy  {:.3} %\".format(accuracy_score(test_y, nb_tfidf_predict)*100))"
   ]
  },
  {
   "cell_type": "code",
   "execution_count": 34,
   "id": "067f49f6",
   "metadata": {
    "execution": {
     "iopub.execute_input": "2022-07-21T11:15:17.774121Z",
     "iopub.status.busy": "2022-07-21T11:15:17.773257Z",
     "iopub.status.idle": "2022-07-21T11:15:17.787087Z",
     "shell.execute_reply": "2022-07-21T11:15:17.785820Z"
    },
    "papermill": {
     "duration": 0.036052,
     "end_time": "2022-07-21T11:15:17.789065",
     "exception": false,
     "start_time": "2022-07-21T11:15:17.753013",
     "status": "completed"
    },
    "tags": []
   },
   "outputs": [
    {
     "name": "stdout",
     "output_type": "stream",
     "text": [
      "              precision    recall  f1-score   support\n",
      "\n",
      "           0       0.95      0.90      0.92      3423\n",
      "           1       0.01      0.03      0.02       153\n",
      "\n",
      "    accuracy                           0.86      3576\n",
      "   macro avg       0.48      0.46      0.47      3576\n",
      "weighted avg       0.91      0.86      0.89      3576\n",
      "\n"
     ]
    }
   ],
   "source": [
    "report = classification_report(test_y, nb_tfidf_predict, target_names = ['0', '1'])\n",
    "print(report)"
   ]
  },
  {
   "cell_type": "markdown",
   "id": "3121f74a",
   "metadata": {
    "papermill": {
     "duration": 0.019038,
     "end_time": "2022-07-21T11:15:17.827349",
     "exception": false,
     "start_time": "2022-07-21T11:15:17.808311",
     "status": "completed"
    },
    "tags": []
   },
   "source": [
    "# Using SVM model"
   ]
  },
  {
   "cell_type": "code",
   "execution_count": 35,
   "id": "00002f7b",
   "metadata": {
    "execution": {
     "iopub.execute_input": "2022-07-21T11:15:17.867200Z",
     "iopub.status.busy": "2022-07-21T11:15:17.866698Z",
     "iopub.status.idle": "2022-07-21T11:16:06.562629Z",
     "shell.execute_reply": "2022-07-21T11:16:06.561719Z"
    },
    "papermill": {
     "duration": 48.734238,
     "end_time": "2022-07-21T11:16:06.580767",
     "exception": false,
     "start_time": "2022-07-21T11:15:17.846529",
     "status": "completed"
    },
    "tags": []
   },
   "outputs": [
    {
     "data": {
      "text/plain": [
       "SVC()"
      ]
     },
     "execution_count": 35,
     "metadata": {},
     "output_type": "execute_result"
    }
   ],
   "source": [
    "# fit data using SVC\n",
    "svc = SVC(kernel='rbf')\n",
    "svc.fit(tfid_train, train_y)"
   ]
  },
  {
   "cell_type": "code",
   "execution_count": 36,
   "id": "45b1b065",
   "metadata": {
    "execution": {
     "iopub.execute_input": "2022-07-21T11:16:06.621494Z",
     "iopub.status.busy": "2022-07-21T11:16:06.620686Z",
     "iopub.status.idle": "2022-07-21T11:16:18.406459Z",
     "shell.execute_reply": "2022-07-21T11:16:18.405443Z"
    },
    "papermill": {
     "duration": 11.809017,
     "end_time": "2022-07-21T11:16:18.409232",
     "exception": false,
     "start_time": "2022-07-21T11:16:06.600215",
     "status": "completed"
    },
    "tags": []
   },
   "outputs": [],
   "source": [
    "# predict output of the test data set\n",
    "predicted = svc.predict(tfid_test)"
   ]
  },
  {
   "cell_type": "code",
   "execution_count": 37,
   "id": "f2163bf5",
   "metadata": {
    "execution": {
     "iopub.execute_input": "2022-07-21T11:16:18.451193Z",
     "iopub.status.busy": "2022-07-21T11:16:18.450841Z",
     "iopub.status.idle": "2022-07-21T11:16:18.458383Z",
     "shell.execute_reply": "2022-07-21T11:16:18.456210Z"
    },
    "papermill": {
     "duration": 0.031382,
     "end_time": "2022-07-21T11:16:18.460908",
     "exception": false,
     "start_time": "2022-07-21T11:16:18.429526",
     "status": "completed"
    },
    "tags": []
   },
   "outputs": [
    {
     "name": "stdout",
     "output_type": "stream",
     "text": [
      "accuracy score of Support Vector Machine: 0.9572147651006712 \n",
      "\n"
     ]
    }
   ],
   "source": [
    "print(\"accuracy score of Support Vector Machine:\", accuracy_score(predicted, test_y), \"\\n\")"
   ]
  },
  {
   "cell_type": "code",
   "execution_count": 38,
   "id": "57a776af",
   "metadata": {
    "execution": {
     "iopub.execute_input": "2022-07-21T11:16:18.502849Z",
     "iopub.status.busy": "2022-07-21T11:16:18.502562Z",
     "iopub.status.idle": "2022-07-21T11:16:18.509619Z",
     "shell.execute_reply": "2022-07-21T11:16:18.508213Z"
    },
    "papermill": {
     "duration": 0.030062,
     "end_time": "2022-07-21T11:16:18.511994",
     "exception": false,
     "start_time": "2022-07-21T11:16:18.481932",
     "status": "completed"
    },
    "tags": []
   },
   "outputs": [
    {
     "name": "stdout",
     "output_type": "stream",
     "text": [
      "confusion matrix of SVM:\n",
      " [[3423    0]\n",
      " [ 153    0]] \n",
      "\n"
     ]
    }
   ],
   "source": [
    "# creating a confusion matrix \n",
    "cm = confusion_matrix(test_y, predicted)\n",
    "print(\"confusion matrix of SVM:\\n\", cm, \"\\n\")"
   ]
  },
  {
   "cell_type": "code",
   "execution_count": 39,
   "id": "f2cf0b40",
   "metadata": {
    "execution": {
     "iopub.execute_input": "2022-07-21T11:16:18.553912Z",
     "iopub.status.busy": "2022-07-21T11:16:18.552390Z",
     "iopub.status.idle": "2022-07-21T11:16:18.570179Z",
     "shell.execute_reply": "2022-07-21T11:16:18.568499Z"
    },
    "papermill": {
     "duration": 0.040027,
     "end_time": "2022-07-21T11:16:18.572114",
     "exception": false,
     "start_time": "2022-07-21T11:16:18.532087",
     "status": "completed"
    },
    "tags": []
   },
   "outputs": [
    {
     "name": "stdout",
     "output_type": "stream",
     "text": [
      "classification report:\n",
      "               precision    recall  f1-score   support\n",
      "\n",
      "           0       0.96      1.00      0.98      3423\n",
      "           1       0.00      0.00      0.00       153\n",
      "\n",
      "    accuracy                           0.96      3576\n",
      "   macro avg       0.48      0.50      0.49      3576\n",
      "weighted avg       0.92      0.96      0.94      3576\n",
      " \n",
      "\n"
     ]
    },
    {
     "name": "stderr",
     "output_type": "stream",
     "text": [
      "/opt/conda/lib/python3.7/site-packages/sklearn/metrics/_classification.py:1318: UndefinedMetricWarning: Precision and F-score are ill-defined and being set to 0.0 in labels with no predicted samples. Use `zero_division` parameter to control this behavior.\n",
      "  _warn_prf(average, modifier, msg_start, len(result))\n",
      "/opt/conda/lib/python3.7/site-packages/sklearn/metrics/_classification.py:1318: UndefinedMetricWarning: Precision and F-score are ill-defined and being set to 0.0 in labels with no predicted samples. Use `zero_division` parameter to control this behavior.\n",
      "  _warn_prf(average, modifier, msg_start, len(result))\n",
      "/opt/conda/lib/python3.7/site-packages/sklearn/metrics/_classification.py:1318: UndefinedMetricWarning: Precision and F-score are ill-defined and being set to 0.0 in labels with no predicted samples. Use `zero_division` parameter to control this behavior.\n",
      "  _warn_prf(average, modifier, msg_start, len(result))\n"
     ]
    }
   ],
   "source": [
    "# create a classifcation report\n",
    "print(\"classification report:\\n\", classification_report(test_y, predicted), \"\\n\")"
   ]
  },
  {
   "cell_type": "markdown",
   "id": "da807fe6",
   "metadata": {
    "papermill": {
     "duration": 0.019859,
     "end_time": "2022-07-21T11:16:18.611567",
     "exception": false,
     "start_time": "2022-07-21T11:16:18.591708",
     "status": "completed"
    },
    "tags": []
   },
   "source": [
    "# Using BiLSTM"
   ]
  },
  {
   "cell_type": "code",
   "execution_count": 40,
   "id": "a6d20034",
   "metadata": {
    "execution": {
     "iopub.execute_input": "2022-07-21T11:16:18.653850Z",
     "iopub.status.busy": "2022-07-21T11:16:18.652241Z",
     "iopub.status.idle": "2022-07-21T11:16:23.110836Z",
     "shell.execute_reply": "2022-07-21T11:16:23.109852Z"
    },
    "papermill": {
     "duration": 4.482099,
     "end_time": "2022-07-21T11:16:23.113430",
     "exception": false,
     "start_time": "2022-07-21T11:16:18.631331",
     "status": "completed"
    },
    "tags": []
   },
   "outputs": [],
   "source": [
    "import tensorflow\n",
    "from tensorflow.keras.layers import Embedding\n",
    "from tensorflow.keras.preprocessing.sequence import pad_sequences\n",
    "from tensorflow.keras.models import Sequential\n",
    "from tensorflow.keras.preprocessing.text import one_hot\n",
    "from tensorflow.keras.layers import LSTM\n",
    "from tensorflow.keras.layers import Dense\n",
    "from tensorflow.keras.layers import Bidirectional\n",
    "from tensorflow.keras.layers import Dropout"
   ]
  },
  {
   "cell_type": "code",
   "execution_count": null,
   "id": "d53d9bad",
   "metadata": {
    "papermill": {
     "duration": 0.019494,
     "end_time": "2022-07-21T11:16:23.153603",
     "exception": false,
     "start_time": "2022-07-21T11:16:23.134109",
     "status": "completed"
    },
    "tags": []
   },
   "outputs": [],
   "source": []
  },
  {
   "cell_type": "code",
   "execution_count": 41,
   "id": "3c25ff13",
   "metadata": {
    "execution": {
     "iopub.execute_input": "2022-07-21T11:16:23.195960Z",
     "iopub.status.busy": "2022-07-21T11:16:23.194027Z",
     "iopub.status.idle": "2022-07-21T11:16:23.213469Z",
     "shell.execute_reply": "2022-07-21T11:16:23.212328Z"
    },
    "papermill": {
     "duration": 0.04288,
     "end_time": "2022-07-21T11:16:23.216101",
     "exception": false,
     "start_time": "2022-07-21T11:16:23.173221",
     "status": "completed"
    },
    "tags": []
   },
   "outputs": [
    {
     "data": {
      "text/html": [
       "<div>\n",
       "<style scoped>\n",
       "    .dataframe tbody tr th:only-of-type {\n",
       "        vertical-align: middle;\n",
       "    }\n",
       "\n",
       "    .dataframe tbody tr th {\n",
       "        vertical-align: top;\n",
       "    }\n",
       "\n",
       "    .dataframe thead th {\n",
       "        text-align: right;\n",
       "    }\n",
       "</style>\n",
       "<table border=\"1\" class=\"dataframe\">\n",
       "  <thead>\n",
       "    <tr style=\"text-align: right;\">\n",
       "      <th></th>\n",
       "      <th>description</th>\n",
       "      <th>requirements</th>\n",
       "      <th>fraudulent</th>\n",
       "    </tr>\n",
       "  </thead>\n",
       "  <tbody>\n",
       "    <tr>\n",
       "      <th>0</th>\n",
       "      <td>Food52, a fast-growing, James Beard Award-winn...</td>\n",
       "      <td>Experience with content management systems a m...</td>\n",
       "      <td>0</td>\n",
       "    </tr>\n",
       "    <tr>\n",
       "      <th>1</th>\n",
       "      <td>Organised - Focused - Vibrant - Awesome!Do you...</td>\n",
       "      <td>What we expect from you:Your key responsibilit...</td>\n",
       "      <td>0</td>\n",
       "    </tr>\n",
       "    <tr>\n",
       "      <th>2</th>\n",
       "      <td>Our client, located in Houston, is actively se...</td>\n",
       "      <td>Implement pre-commissioning and commissioning ...</td>\n",
       "      <td>0</td>\n",
       "    </tr>\n",
       "    <tr>\n",
       "      <th>3</th>\n",
       "      <td>THE COMPANY: ESRI – Environmental Systems Rese...</td>\n",
       "      <td>EDUCATION: Bachelor’s or Master’s in GIS, busi...</td>\n",
       "      <td>0</td>\n",
       "    </tr>\n",
       "    <tr>\n",
       "      <th>4</th>\n",
       "      <td>JOB TITLE: Itemization Review ManagerLOCATION:...</td>\n",
       "      <td>QUALIFICATIONS:RN license in the State of Texa...</td>\n",
       "      <td>0</td>\n",
       "    </tr>\n",
       "  </tbody>\n",
       "</table>\n",
       "</div>"
      ],
      "text/plain": [
       "                                         description  \\\n",
       "0  Food52, a fast-growing, James Beard Award-winn...   \n",
       "1  Organised - Focused - Vibrant - Awesome!Do you...   \n",
       "2  Our client, located in Houston, is actively se...   \n",
       "3  THE COMPANY: ESRI – Environmental Systems Rese...   \n",
       "4  JOB TITLE: Itemization Review ManagerLOCATION:...   \n",
       "\n",
       "                                        requirements  fraudulent  \n",
       "0  Experience with content management systems a m...           0  \n",
       "1  What we expect from you:Your key responsibilit...           0  \n",
       "2  Implement pre-commissioning and commissioning ...           0  \n",
       "3  EDUCATION: Bachelor’s or Master’s in GIS, busi...           0  \n",
       "4  QUALIFICATIONS:RN license in the State of Texa...           0  "
      ]
     },
     "execution_count": 41,
     "metadata": {},
     "output_type": "execute_result"
    }
   ],
   "source": [
    "df = JobPostDF[['description','requirements','fraudulent']]\n",
    "df.head()"
   ]
  },
  {
   "cell_type": "code",
   "execution_count": 42,
   "id": "c84e1801",
   "metadata": {
    "execution": {
     "iopub.execute_input": "2022-07-21T11:16:23.257233Z",
     "iopub.status.busy": "2022-07-21T11:16:23.256954Z",
     "iopub.status.idle": "2022-07-21T11:16:23.263747Z",
     "shell.execute_reply": "2022-07-21T11:16:23.262808Z"
    },
    "papermill": {
     "duration": 0.029552,
     "end_time": "2022-07-21T11:16:23.265731",
     "exception": false,
     "start_time": "2022-07-21T11:16:23.236179",
     "status": "completed"
    },
    "tags": []
   },
   "outputs": [
    {
     "data": {
      "text/plain": [
       "(17880, 3)"
      ]
     },
     "execution_count": 42,
     "metadata": {},
     "output_type": "execute_result"
    }
   ],
   "source": [
    "df.shape"
   ]
  },
  {
   "cell_type": "code",
   "execution_count": 43,
   "id": "20f43af6",
   "metadata": {
    "execution": {
     "iopub.execute_input": "2022-07-21T11:16:23.316214Z",
     "iopub.status.busy": "2022-07-21T11:16:23.315942Z",
     "iopub.status.idle": "2022-07-21T11:16:23.327897Z",
     "shell.execute_reply": "2022-07-21T11:16:23.327081Z"
    },
    "papermill": {
     "duration": 0.042938,
     "end_time": "2022-07-21T11:16:23.329850",
     "exception": false,
     "start_time": "2022-07-21T11:16:23.286912",
     "status": "completed"
    },
    "tags": []
   },
   "outputs": [],
   "source": [
    "###Drop Nan Values\n",
    "df=df.dropna()"
   ]
  },
  {
   "cell_type": "code",
   "execution_count": 44,
   "id": "457f0835",
   "metadata": {
    "execution": {
     "iopub.execute_input": "2022-07-21T11:16:23.371557Z",
     "iopub.status.busy": "2022-07-21T11:16:23.371304Z",
     "iopub.status.idle": "2022-07-21T11:16:23.376823Z",
     "shell.execute_reply": "2022-07-21T11:16:23.375952Z"
    },
    "papermill": {
     "duration": 0.028195,
     "end_time": "2022-07-21T11:16:23.378639",
     "exception": false,
     "start_time": "2022-07-21T11:16:23.350444",
     "status": "completed"
    },
    "tags": []
   },
   "outputs": [
    {
     "data": {
      "text/plain": [
       "(17880, 3)"
      ]
     },
     "execution_count": 44,
     "metadata": {},
     "output_type": "execute_result"
    }
   ],
   "source": [
    "df.shape"
   ]
  },
  {
   "cell_type": "code",
   "execution_count": 45,
   "id": "13951f33",
   "metadata": {
    "execution": {
     "iopub.execute_input": "2022-07-21T11:16:23.422299Z",
     "iopub.status.busy": "2022-07-21T11:16:23.420903Z",
     "iopub.status.idle": "2022-07-21T11:16:23.432112Z",
     "shell.execute_reply": "2022-07-21T11:16:23.431305Z"
    },
    "papermill": {
     "duration": 0.035919,
     "end_time": "2022-07-21T11:16:23.434800",
     "exception": false,
     "start_time": "2022-07-21T11:16:23.398881",
     "status": "completed"
    },
    "tags": []
   },
   "outputs": [
    {
     "data": {
      "text/html": [
       "<div>\n",
       "<style scoped>\n",
       "    .dataframe tbody tr th:only-of-type {\n",
       "        vertical-align: middle;\n",
       "    }\n",
       "\n",
       "    .dataframe tbody tr th {\n",
       "        vertical-align: top;\n",
       "    }\n",
       "\n",
       "    .dataframe thead th {\n",
       "        text-align: right;\n",
       "    }\n",
       "</style>\n",
       "<table border=\"1\" class=\"dataframe\">\n",
       "  <thead>\n",
       "    <tr style=\"text-align: right;\">\n",
       "      <th></th>\n",
       "      <th>description</th>\n",
       "      <th>requirements</th>\n",
       "    </tr>\n",
       "  </thead>\n",
       "  <tbody>\n",
       "    <tr>\n",
       "      <th>0</th>\n",
       "      <td>Food52, a fast-growing, James Beard Award-winn...</td>\n",
       "      <td>Experience with content management systems a m...</td>\n",
       "    </tr>\n",
       "    <tr>\n",
       "      <th>1</th>\n",
       "      <td>Organised - Focused - Vibrant - Awesome!Do you...</td>\n",
       "      <td>What we expect from you:Your key responsibilit...</td>\n",
       "    </tr>\n",
       "    <tr>\n",
       "      <th>2</th>\n",
       "      <td>Our client, located in Houston, is actively se...</td>\n",
       "      <td>Implement pre-commissioning and commissioning ...</td>\n",
       "    </tr>\n",
       "    <tr>\n",
       "      <th>3</th>\n",
       "      <td>THE COMPANY: ESRI – Environmental Systems Rese...</td>\n",
       "      <td>EDUCATION: Bachelor’s or Master’s in GIS, busi...</td>\n",
       "    </tr>\n",
       "    <tr>\n",
       "      <th>4</th>\n",
       "      <td>JOB TITLE: Itemization Review ManagerLOCATION:...</td>\n",
       "      <td>QUALIFICATIONS:RN license in the State of Texa...</td>\n",
       "    </tr>\n",
       "  </tbody>\n",
       "</table>\n",
       "</div>"
      ],
      "text/plain": [
       "                                         description  \\\n",
       "0  Food52, a fast-growing, James Beard Award-winn...   \n",
       "1  Organised - Focused - Vibrant - Awesome!Do you...   \n",
       "2  Our client, located in Houston, is actively se...   \n",
       "3  THE COMPANY: ESRI – Environmental Systems Rese...   \n",
       "4  JOB TITLE: Itemization Review ManagerLOCATION:...   \n",
       "\n",
       "                                        requirements  \n",
       "0  Experience with content management systems a m...  \n",
       "1  What we expect from you:Your key responsibilit...  \n",
       "2  Implement pre-commissioning and commissioning ...  \n",
       "3  EDUCATION: Bachelor’s or Master’s in GIS, busi...  \n",
       "4  QUALIFICATIONS:RN license in the State of Texa...  "
      ]
     },
     "execution_count": 45,
     "metadata": {},
     "output_type": "execute_result"
    }
   ],
   "source": [
    "## Get the Independent Features\n",
    "\n",
    "new_X=df.drop('fraudulent',axis=1)\n",
    "new_X.head()"
   ]
  },
  {
   "cell_type": "code",
   "execution_count": 46,
   "id": "9f37f0e6",
   "metadata": {
    "execution": {
     "iopub.execute_input": "2022-07-21T11:16:23.483331Z",
     "iopub.status.busy": "2022-07-21T11:16:23.483034Z",
     "iopub.status.idle": "2022-07-21T11:16:23.490022Z",
     "shell.execute_reply": "2022-07-21T11:16:23.489034Z"
    },
    "papermill": {
     "duration": 0.031548,
     "end_time": "2022-07-21T11:16:23.491857",
     "exception": false,
     "start_time": "2022-07-21T11:16:23.460309",
     "status": "completed"
    },
    "tags": []
   },
   "outputs": [
    {
     "data": {
      "text/plain": [
       "0    0\n",
       "1    0\n",
       "2    0\n",
       "3    0\n",
       "4    0\n",
       "Name: fraudulent, dtype: int64"
      ]
     },
     "execution_count": 46,
     "metadata": {},
     "output_type": "execute_result"
    }
   ],
   "source": [
    "## Get the Dependent features\n",
    "new_y=df['fraudulent']\n",
    "new_y.head()"
   ]
  },
  {
   "cell_type": "code",
   "execution_count": 47,
   "id": "27fceb08",
   "metadata": {
    "execution": {
     "iopub.execute_input": "2022-07-21T11:16:23.534386Z",
     "iopub.status.busy": "2022-07-21T11:16:23.533623Z",
     "iopub.status.idle": "2022-07-21T11:16:23.541161Z",
     "shell.execute_reply": "2022-07-21T11:16:23.540029Z"
    },
    "papermill": {
     "duration": 0.030918,
     "end_time": "2022-07-21T11:16:23.543166",
     "exception": false,
     "start_time": "2022-07-21T11:16:23.512248",
     "status": "completed"
    },
    "tags": []
   },
   "outputs": [
    {
     "data": {
      "text/plain": [
       "0    17014\n",
       "1      866\n",
       "Name: fraudulent, dtype: int64"
      ]
     },
     "execution_count": 47,
     "metadata": {},
     "output_type": "execute_result"
    }
   ],
   "source": [
    "new_y.value_counts()"
   ]
  },
  {
   "cell_type": "code",
   "execution_count": 48,
   "id": "d9d7d990",
   "metadata": {
    "execution": {
     "iopub.execute_input": "2022-07-21T11:16:23.585762Z",
     "iopub.status.busy": "2022-07-21T11:16:23.585024Z",
     "iopub.status.idle": "2022-07-21T11:16:23.589050Z",
     "shell.execute_reply": "2022-07-21T11:16:23.588096Z"
    },
    "papermill": {
     "duration": 0.027223,
     "end_time": "2022-07-21T11:16:23.590941",
     "exception": false,
     "start_time": "2022-07-21T11:16:23.563718",
     "status": "completed"
    },
    "tags": []
   },
   "outputs": [],
   "source": [
    "voc_size=5000"
   ]
  },
  {
   "cell_type": "markdown",
   "id": "ac146c0d",
   "metadata": {
    "papermill": {
     "duration": 0.020267,
     "end_time": "2022-07-21T11:16:23.631607",
     "exception": false,
     "start_time": "2022-07-21T11:16:23.611340",
     "status": "completed"
    },
    "tags": []
   },
   "source": [
    "# One hot representation"
   ]
  },
  {
   "cell_type": "code",
   "execution_count": 49,
   "id": "058b9b92",
   "metadata": {
    "execution": {
     "iopub.execute_input": "2022-07-21T11:16:23.673947Z",
     "iopub.status.busy": "2022-07-21T11:16:23.673413Z",
     "iopub.status.idle": "2022-07-21T11:16:23.678000Z",
     "shell.execute_reply": "2022-07-21T11:16:23.677137Z"
    },
    "papermill": {
     "duration": 0.027983,
     "end_time": "2022-07-21T11:16:23.680086",
     "exception": false,
     "start_time": "2022-07-21T11:16:23.652103",
     "status": "completed"
    },
    "tags": []
   },
   "outputs": [],
   "source": [
    "message = new_X.copy()"
   ]
  },
  {
   "cell_type": "code",
   "execution_count": 50,
   "id": "b11ad5ae",
   "metadata": {
    "execution": {
     "iopub.execute_input": "2022-07-21T11:16:23.723476Z",
     "iopub.status.busy": "2022-07-21T11:16:23.722631Z",
     "iopub.status.idle": "2022-07-21T11:16:23.729759Z",
     "shell.execute_reply": "2022-07-21T11:16:23.728784Z"
    },
    "papermill": {
     "duration": 0.030633,
     "end_time": "2022-07-21T11:16:23.731702",
     "exception": false,
     "start_time": "2022-07-21T11:16:23.701069",
     "status": "completed"
    },
    "tags": []
   },
   "outputs": [
    {
     "data": {
      "text/plain": [
       "\"Organised - Focused - Vibrant - Awesome!Do you have a passion for customer service? Slick typing skills? Maybe Account Management? ...And think administration is cooler than a polar bear on a jetski? Then we need to hear you!\\xa0We are the Cloud Video Production Service and opperating on a glodal level. Yeah, it's pretty cool. Serious about\\xa0delivering a world class product and excellent customer service.Our rapidly expanding business is looking for a talented Project Manager to manage the successful delivery of video projects, manage client communications and drive the production process. Work with some of the coolest brands on the planet and learn from a global team that are representing NZ is a huge way!We are entering the next growth stage of our business and growing quickly internationally. \\xa0Therefore, the position is bursting with opportunity for the right person entering the business at the right time.\\xa090 Seconds, the worlds Cloud Video Production Service -\\xa0http://90#URL_fbe6559afac620a3cd2c22281f7b8d0eef56a73e3d9a311e2f1ca13d081dd630#90 Seconds is the worlds Cloud Video Production Service enabling brands and agencies to get high quality online video content shot and produced anywhere in the world. Fast, affordable, and all managed seamlessly in the cloud from purchase to publish.\\xa090 Seconds removes the hassle, cost, risk and speed issues of working with regular video production companies by managing every aspect of video projects in a beautiful online experience. \\xa0With a growing network of over 2,000 rated video professionals in over 50 countries and dedicated production success teams in 5 countries guaranteeing video project success 100%. It's as easy as commissioning a quick google adwords campaign.90 Seconds has produced almost 4,000 videos in over 30 Countries for over 500 Global brands including some of the worlds largest including Paypal, L'oreal, Sony and Barclays and has offices in Auckland, London, Sydney, Tokyo &amp; Singapore.Our Auckland office is based\\xa0right in the heart of the Wynyard Quarter Innovation Precinct - GridAKL!\\xa0\""
      ]
     },
     "execution_count": 50,
     "metadata": {},
     "output_type": "execute_result"
    }
   ],
   "source": [
    "message['description'][1]"
   ]
  },
  {
   "cell_type": "code",
   "execution_count": 51,
   "id": "e236c7dc",
   "metadata": {
    "execution": {
     "iopub.execute_input": "2022-07-21T11:16:23.774873Z",
     "iopub.status.busy": "2022-07-21T11:16:23.774106Z",
     "iopub.status.idle": "2022-07-21T11:16:23.779364Z",
     "shell.execute_reply": "2022-07-21T11:16:23.778519Z"
    },
    "papermill": {
     "duration": 0.02884,
     "end_time": "2022-07-21T11:16:23.781254",
     "exception": false,
     "start_time": "2022-07-21T11:16:23.752414",
     "status": "completed"
    },
    "tags": []
   },
   "outputs": [],
   "source": [
    "message.reset_index(inplace=True)"
   ]
  },
  {
   "cell_type": "code",
   "execution_count": 52,
   "id": "fad131bb",
   "metadata": {
    "execution": {
     "iopub.execute_input": "2022-07-21T11:16:23.825381Z",
     "iopub.status.busy": "2022-07-21T11:16:23.824514Z",
     "iopub.status.idle": "2022-07-21T11:23:46.829392Z",
     "shell.execute_reply": "2022-07-21T11:23:46.828260Z"
    },
    "papermill": {
     "duration": 443.02933,
     "end_time": "2022-07-21T11:23:46.831997",
     "exception": false,
     "start_time": "2022-07-21T11:16:23.802667",
     "status": "completed"
    },
    "tags": []
   },
   "outputs": [],
   "source": [
    "from nltk.stem.porter import PorterStemmer\n",
    "ps = PorterStemmer()\n",
    "corpus = []\n",
    "for i in range(0, len(message)):\n",
    "    review = re.sub('[^a-zA-Z]', ' ', message['description'][i])\n",
    "    review = review.lower()\n",
    "    review = review.split()\n",
    "    \n",
    "    review = [ps.stem(word) for word in review if not word in stopwords.words('english')]\n",
    "    review = ' '.join(review)\n",
    "    corpus.append(review)"
   ]
  },
  {
   "cell_type": "code",
   "execution_count": 53,
   "id": "546e9956",
   "metadata": {
    "execution": {
     "iopub.execute_input": "2022-07-21T11:23:46.876452Z",
     "iopub.status.busy": "2022-07-21T11:23:46.875855Z",
     "iopub.status.idle": "2022-07-21T11:23:46.882231Z",
     "shell.execute_reply": "2022-07-21T11:23:46.881244Z"
    },
    "papermill": {
     "duration": 0.030427,
     "end_time": "2022-07-21T11:23:46.884372",
     "exception": false,
     "start_time": "2022-07-21T11:23:46.853945",
     "status": "completed"
    },
    "tags": []
   },
   "outputs": [
    {
     "data": {
      "text/plain": [
       "'organis focus vibrant awesom passion custom servic slick type skill mayb account manag think administr cooler polar bear jetski need hear cloud video product servic opper glodal level yeah pretti cool seriou deliv world class product excel custom servic rapidli expand busi look talent project manag manag success deliveri video project manag client commun drive product process work coolest brand planet learn global team repres nz huge way enter next growth stage busi grow quickli intern therefor posit burst opportun right person enter busi right time second world cloud video product servic http url fbe afac cd c f b eef e e f ca dd second world cloud video product servic enabl brand agenc get high qualiti onlin video content shot produc anywher world fast afford manag seamlessli cloud purchas publish second remov hassl cost risk speed issu work regular video product compani manag everi aspect video project beauti onlin experi grow network rate video profession countri dedic product success team countri guarante video project success easi commiss quick googl adword campaign second produc almost video countri global brand includ world largest includ paypal l oreal soni barclay offic auckland london sydney tokyo amp singapor auckland offic base right heart wynyard quarter innov precinct gridakl'"
      ]
     },
     "execution_count": 53,
     "metadata": {},
     "output_type": "execute_result"
    }
   ],
   "source": [
    "corpus[1]"
   ]
  },
  {
   "cell_type": "code",
   "execution_count": 54,
   "id": "22fa6c48",
   "metadata": {
    "execution": {
     "iopub.execute_input": "2022-07-21T11:23:46.928544Z",
     "iopub.status.busy": "2022-07-21T11:23:46.928280Z",
     "iopub.status.idle": "2022-07-21T11:23:48.009075Z",
     "shell.execute_reply": "2022-07-21T11:23:48.007672Z"
    },
    "papermill": {
     "duration": 1.105228,
     "end_time": "2022-07-21T11:23:48.011367",
     "exception": false,
     "start_time": "2022-07-21T11:23:46.906139",
     "status": "completed"
    },
    "tags": []
   },
   "outputs": [
    {
     "data": {
      "text/plain": [
       "[1772,\n",
       " 3719,\n",
       " 627,\n",
       " 3904,\n",
       " 1386,\n",
       " 2741,\n",
       " 859,\n",
       " 26,\n",
       " 687,\n",
       " 94,\n",
       " 2115,\n",
       " 2545,\n",
       " 2361,\n",
       " 1207,\n",
       " 3314,\n",
       " 279,\n",
       " 4460,\n",
       " 2030,\n",
       " 2247,\n",
       " 2147,\n",
       " 1189,\n",
       " 563,\n",
       " 2110,\n",
       " 1879,\n",
       " 859,\n",
       " 945,\n",
       " 1713,\n",
       " 749,\n",
       " 194,\n",
       " 671,\n",
       " 4795,\n",
       " 4656,\n",
       " 4950,\n",
       " 2468,\n",
       " 633,\n",
       " 1879,\n",
       " 3952,\n",
       " 2741,\n",
       " 859,\n",
       " 810,\n",
       " 1428,\n",
       " 1923,\n",
       " 452,\n",
       " 3695,\n",
       " 3317,\n",
       " 2361,\n",
       " 2361,\n",
       " 4485,\n",
       " 3434,\n",
       " 2110,\n",
       " 3317,\n",
       " 2361,\n",
       " 3664,\n",
       " 2868,\n",
       " 747,\n",
       " 1879,\n",
       " 137,\n",
       " 652,\n",
       " 4217,\n",
       " 2261,\n",
       " 757,\n",
       " 1615,\n",
       " 2433,\n",
       " 1980,\n",
       " 814,\n",
       " 452,\n",
       " 120,\n",
       " 3463,\n",
       " 266,\n",
       " 4130,\n",
       " 2866,\n",
       " 703,\n",
       " 1923,\n",
       " 4457,\n",
       " 264,\n",
       " 3642,\n",
       " 2745,\n",
       " 3611,\n",
       " 2222,\n",
       " 3375,\n",
       " 1948,\n",
       " 1342,\n",
       " 266,\n",
       " 1923,\n",
       " 1948,\n",
       " 2391,\n",
       " 3945,\n",
       " 2468,\n",
       " 563,\n",
       " 2110,\n",
       " 1879,\n",
       " 859,\n",
       " 3167,\n",
       " 2836,\n",
       " 3130,\n",
       " 2780,\n",
       " 4456,\n",
       " 1574,\n",
       " 1364,\n",
       " 1350,\n",
       " 4183,\n",
       " 836,\n",
       " 836,\n",
       " 1364,\n",
       " 474,\n",
       " 377,\n",
       " 3945,\n",
       " 2468,\n",
       " 563,\n",
       " 2110,\n",
       " 1879,\n",
       " 859,\n",
       " 10,\n",
       " 2261,\n",
       " 1705,\n",
       " 625,\n",
       " 4333,\n",
       " 918,\n",
       " 4344,\n",
       " 2110,\n",
       " 3644,\n",
       " 2513,\n",
       " 4302,\n",
       " 2380,\n",
       " 2468,\n",
       " 3382,\n",
       " 1182,\n",
       " 2361,\n",
       " 4375,\n",
       " 563,\n",
       " 3307,\n",
       " 3134,\n",
       " 3945,\n",
       " 4736,\n",
       " 3305,\n",
       " 4983,\n",
       " 3582,\n",
       " 779,\n",
       " 2607,\n",
       " 652,\n",
       " 3378,\n",
       " 2110,\n",
       " 1879,\n",
       " 1113,\n",
       " 2361,\n",
       " 3762,\n",
       " 864,\n",
       " 2110,\n",
       " 3317,\n",
       " 3605,\n",
       " 4344,\n",
       " 4701,\n",
       " 4457,\n",
       " 1942,\n",
       " 1742,\n",
       " 2110,\n",
       " 2349,\n",
       " 3760,\n",
       " 4440,\n",
       " 1879,\n",
       " 4485,\n",
       " 1980,\n",
       " 3760,\n",
       " 2772,\n",
       " 2110,\n",
       " 3317,\n",
       " 4485,\n",
       " 2409,\n",
       " 2525,\n",
       " 2061,\n",
       " 3287,\n",
       " 972,\n",
       " 1071,\n",
       " 3945,\n",
       " 4302,\n",
       " 935,\n",
       " 2110,\n",
       " 3760,\n",
       " 2433,\n",
       " 2261,\n",
       " 1375,\n",
       " 2468,\n",
       " 1786,\n",
       " 1375,\n",
       " 3938,\n",
       " 991,\n",
       " 1084,\n",
       " 3905,\n",
       " 1982,\n",
       " 813,\n",
       " 899,\n",
       " 4098,\n",
       " 1849,\n",
       " 4374,\n",
       " 1429,\n",
       " 702,\n",
       " 899,\n",
       " 813,\n",
       " 2666,\n",
       " 1948,\n",
       " 2910,\n",
       " 1490,\n",
       " 29,\n",
       " 557,\n",
       " 3964,\n",
       " 1002]"
      ]
     },
     "execution_count": 54,
     "metadata": {},
     "output_type": "execute_result"
    }
   ],
   "source": [
    "onehot_repr=[one_hot(words,voc_size)for words in corpus] \n",
    "onehot_repr[1]"
   ]
  },
  {
   "cell_type": "markdown",
   "id": "ddc08572",
   "metadata": {
    "papermill": {
     "duration": 0.021972,
     "end_time": "2022-07-21T11:23:48.055571",
     "exception": false,
     "start_time": "2022-07-21T11:23:48.033599",
     "status": "completed"
    },
    "tags": []
   },
   "source": [
    "#  Embedding Representation:\n"
   ]
  },
  {
   "cell_type": "code",
   "execution_count": 55,
   "id": "4c2f9e69",
   "metadata": {
    "execution": {
     "iopub.execute_input": "2022-07-21T11:23:48.100263Z",
     "iopub.status.busy": "2022-07-21T11:23:48.099550Z",
     "iopub.status.idle": "2022-07-21T11:23:48.219744Z",
     "shell.execute_reply": "2022-07-21T11:23:48.218027Z"
    },
    "papermill": {
     "duration": 0.145392,
     "end_time": "2022-07-21T11:23:48.222167",
     "exception": false,
     "start_time": "2022-07-21T11:23:48.076775",
     "status": "completed"
    },
    "tags": []
   },
   "outputs": [
    {
     "name": "stdout",
     "output_type": "stream",
     "text": [
      "[[4925 3644 2361 ... 1775  683 4597]\n",
      " [4485 2409 2525 ...  557 3964 1002]\n",
      " [   0    0    0 ... 3620 3334 2890]\n",
      " ...\n",
      " [2335 3078 4650 ... 3594 4063 4933]\n",
      " [4315 2526 4839 ... 3798 3642 3317]\n",
      " [2447 1811 2044 ... 3464  877 2875]]\n"
     ]
    }
   ],
   "source": [
    "sent_length=40\n",
    "embedded_docs=pad_sequences(onehot_repr,padding='pre',maxlen=sent_length)\n",
    "print(embedded_docs)"
   ]
  },
  {
   "cell_type": "code",
   "execution_count": 56,
   "id": "800e93a5",
   "metadata": {
    "execution": {
     "iopub.execute_input": "2022-07-21T11:23:48.266632Z",
     "iopub.status.busy": "2022-07-21T11:23:48.265869Z",
     "iopub.status.idle": "2022-07-21T11:23:48.272685Z",
     "shell.execute_reply": "2022-07-21T11:23:48.271699Z"
    },
    "papermill": {
     "duration": 0.031424,
     "end_time": "2022-07-21T11:23:48.274947",
     "exception": false,
     "start_time": "2022-07-21T11:23:48.243523",
     "status": "completed"
    },
    "tags": []
   },
   "outputs": [
    {
     "data": {
      "text/plain": [
       "array([4925, 3644, 2361, 2534, 1246,  207, 3890, 1609, 4229, 3039, 2602,\n",
       "       2602, 4229,  835,  672, 3935, 4229, 4580, 4229, 1547, 3363, 1429,\n",
       "       3878, 3224,  813, 3314,  652, 1686,  909, 2871, 3282, 3326, 4112,\n",
       "       1930,  366, 4099, 1453, 1775,  683, 4597], dtype=int32)"
      ]
     },
     "execution_count": 56,
     "metadata": {},
     "output_type": "execute_result"
    }
   ],
   "source": [
    "embedded_docs[0]"
   ]
  },
  {
   "cell_type": "code",
   "execution_count": 57,
   "id": "8277ab27",
   "metadata": {
    "execution": {
     "iopub.execute_input": "2022-07-21T11:23:48.320371Z",
     "iopub.status.busy": "2022-07-21T11:23:48.319672Z",
     "iopub.status.idle": "2022-07-21T11:23:51.223501Z",
     "shell.execute_reply": "2022-07-21T11:23:51.222552Z"
    },
    "papermill": {
     "duration": 2.929061,
     "end_time": "2022-07-21T11:23:51.225803",
     "exception": false,
     "start_time": "2022-07-21T11:23:48.296742",
     "status": "completed"
    },
    "tags": []
   },
   "outputs": [
    {
     "name": "stderr",
     "output_type": "stream",
     "text": [
      "2022-07-21 11:23:48.401871: I tensorflow/stream_executor/cuda/cuda_gpu_executor.cc:937] successful NUMA node read from SysFS had negative value (-1), but there must be at least one NUMA node, so returning NUMA node zero\n",
      "2022-07-21 11:23:48.502675: I tensorflow/stream_executor/cuda/cuda_gpu_executor.cc:937] successful NUMA node read from SysFS had negative value (-1), but there must be at least one NUMA node, so returning NUMA node zero\n",
      "2022-07-21 11:23:48.503496: I tensorflow/stream_executor/cuda/cuda_gpu_executor.cc:937] successful NUMA node read from SysFS had negative value (-1), but there must be at least one NUMA node, so returning NUMA node zero\n",
      "2022-07-21 11:23:48.504908: I tensorflow/core/platform/cpu_feature_guard.cc:142] This TensorFlow binary is optimized with oneAPI Deep Neural Network Library (oneDNN) to use the following CPU instructions in performance-critical operations:  AVX2 AVX512F FMA\n",
      "To enable them in other operations, rebuild TensorFlow with the appropriate compiler flags.\n",
      "2022-07-21 11:23:48.505299: I tensorflow/stream_executor/cuda/cuda_gpu_executor.cc:937] successful NUMA node read from SysFS had negative value (-1), but there must be at least one NUMA node, so returning NUMA node zero\n",
      "2022-07-21 11:23:48.506249: I tensorflow/stream_executor/cuda/cuda_gpu_executor.cc:937] successful NUMA node read from SysFS had negative value (-1), but there must be at least one NUMA node, so returning NUMA node zero\n",
      "2022-07-21 11:23:48.507153: I tensorflow/stream_executor/cuda/cuda_gpu_executor.cc:937] successful NUMA node read from SysFS had negative value (-1), but there must be at least one NUMA node, so returning NUMA node zero\n",
      "2022-07-21 11:23:50.261183: I tensorflow/stream_executor/cuda/cuda_gpu_executor.cc:937] successful NUMA node read from SysFS had negative value (-1), but there must be at least one NUMA node, so returning NUMA node zero\n",
      "2022-07-21 11:23:50.262033: I tensorflow/stream_executor/cuda/cuda_gpu_executor.cc:937] successful NUMA node read from SysFS had negative value (-1), but there must be at least one NUMA node, so returning NUMA node zero\n",
      "2022-07-21 11:23:50.262700: I tensorflow/stream_executor/cuda/cuda_gpu_executor.cc:937] successful NUMA node read from SysFS had negative value (-1), but there must be at least one NUMA node, so returning NUMA node zero\n",
      "2022-07-21 11:23:50.263294: I tensorflow/core/common_runtime/gpu/gpu_device.cc:1510] Created device /job:localhost/replica:0/task:0/device:GPU:0 with 15403 MB memory:  -> device: 0, name: Tesla P100-PCIE-16GB, pci bus id: 0000:00:04.0, compute capability: 6.0\n"
     ]
    },
    {
     "name": "stdout",
     "output_type": "stream",
     "text": [
      "Model: \"sequential\"\n",
      "_________________________________________________________________\n",
      "Layer (type)                 Output Shape              Param #   \n",
      "=================================================================\n",
      "embedding (Embedding)        (None, 40, 50)            250000    \n",
      "_________________________________________________________________\n",
      "bidirectional (Bidirectional (None, 200)               120800    \n",
      "_________________________________________________________________\n",
      "dropout (Dropout)            (None, 200)               0         \n",
      "_________________________________________________________________\n",
      "dense (Dense)                (None, 1)                 201       \n",
      "=================================================================\n",
      "Total params: 371,001\n",
      "Trainable params: 371,001\n",
      "Non-trainable params: 0\n",
      "_________________________________________________________________\n",
      "None\n"
     ]
    }
   ],
   "source": [
    "## Creating model\n",
    "embedding_vector_features=50\n",
    "model1=Sequential()\n",
    "model1.add(Embedding(voc_size,embedding_vector_features,input_length=sent_length))\n",
    "model1.add(Bidirectional(LSTM(100))) ##Just add bidirectional!!, except it would just behave as normal LSTM Model\n",
    "model1.add(Dropout(0.3))\n",
    "model1.add(Dense(1,activation='sigmoid'))\n",
    "model1.compile(loss='binary_crossentropy',optimizer='adam',metrics=['accuracy'])\n",
    "print(model1.summary())"
   ]
  },
  {
   "cell_type": "code",
   "execution_count": 58,
   "id": "19c842e0",
   "metadata": {
    "execution": {
     "iopub.execute_input": "2022-07-21T11:23:51.271779Z",
     "iopub.status.busy": "2022-07-21T11:23:51.271002Z",
     "iopub.status.idle": "2022-07-21T11:23:51.278438Z",
     "shell.execute_reply": "2022-07-21T11:23:51.277459Z"
    },
    "papermill": {
     "duration": 0.031768,
     "end_time": "2022-07-21T11:23:51.280440",
     "exception": false,
     "start_time": "2022-07-21T11:23:51.248672",
     "status": "completed"
    },
    "tags": []
   },
   "outputs": [
    {
     "data": {
      "text/plain": [
       "(17880, (17880,))"
      ]
     },
     "execution_count": 58,
     "metadata": {},
     "output_type": "execute_result"
    }
   ],
   "source": [
    "len(embedded_docs),new_y.shape"
   ]
  },
  {
   "cell_type": "code",
   "execution_count": 59,
   "id": "bc6360c0",
   "metadata": {
    "execution": {
     "iopub.execute_input": "2022-07-21T11:23:51.325997Z",
     "iopub.status.busy": "2022-07-21T11:23:51.324492Z",
     "iopub.status.idle": "2022-07-21T11:23:51.331474Z",
     "shell.execute_reply": "2022-07-21T11:23:51.330640Z"
    },
    "papermill": {
     "duration": 0.031661,
     "end_time": "2022-07-21T11:23:51.333483",
     "exception": false,
     "start_time": "2022-07-21T11:23:51.301822",
     "status": "completed"
    },
    "tags": []
   },
   "outputs": [],
   "source": [
    "X_final=np.array(embedded_docs)\n",
    "y_final=np.array(new_y)"
   ]
  },
  {
   "cell_type": "code",
   "execution_count": 60,
   "id": "70c38eda",
   "metadata": {
    "execution": {
     "iopub.execute_input": "2022-07-21T11:23:51.377718Z",
     "iopub.status.busy": "2022-07-21T11:23:51.377456Z",
     "iopub.status.idle": "2022-07-21T11:23:51.383591Z",
     "shell.execute_reply": "2022-07-21T11:23:51.382573Z"
    },
    "papermill": {
     "duration": 0.031529,
     "end_time": "2022-07-21T11:23:51.386555",
     "exception": false,
     "start_time": "2022-07-21T11:23:51.355026",
     "status": "completed"
    },
    "tags": []
   },
   "outputs": [
    {
     "data": {
      "text/plain": [
       "array([4485, 2409, 2525, 2061, 3287,  972, 1071, 3945, 4302,  935, 2110,\n",
       "       3760, 2433, 2261, 1375, 2468, 1786, 1375, 3938,  991, 1084, 3905,\n",
       "       1982,  813,  899, 4098, 1849, 4374, 1429,  702,  899,  813, 2666,\n",
       "       1948, 2910, 1490,   29,  557, 3964, 1002], dtype=int32)"
      ]
     },
     "execution_count": 60,
     "metadata": {},
     "output_type": "execute_result"
    }
   ],
   "source": [
    "X_final[1]"
   ]
  },
  {
   "cell_type": "code",
   "execution_count": 61,
   "id": "2df6eee3",
   "metadata": {
    "execution": {
     "iopub.execute_input": "2022-07-21T11:23:51.431496Z",
     "iopub.status.busy": "2022-07-21T11:23:51.431201Z",
     "iopub.status.idle": "2022-07-21T11:23:51.440558Z",
     "shell.execute_reply": "2022-07-21T11:23:51.439581Z"
    },
    "papermill": {
     "duration": 0.034207,
     "end_time": "2022-07-21T11:23:51.442650",
     "exception": false,
     "start_time": "2022-07-21T11:23:51.408443",
     "status": "completed"
    },
    "tags": []
   },
   "outputs": [],
   "source": [
    "from sklearn.model_selection import train_test_split\n",
    "X_train, X_test, y_train, y_test = train_test_split(X_final, y_final, test_size=0.25, random_state=32)"
   ]
  },
  {
   "cell_type": "code",
   "execution_count": 62,
   "id": "639ed763",
   "metadata": {
    "execution": {
     "iopub.execute_input": "2022-07-21T11:23:51.486827Z",
     "iopub.status.busy": "2022-07-21T11:23:51.486555Z",
     "iopub.status.idle": "2022-07-21T11:24:18.762711Z",
     "shell.execute_reply": "2022-07-21T11:24:18.761822Z"
    },
    "papermill": {
     "duration": 27.300386,
     "end_time": "2022-07-21T11:24:18.764650",
     "exception": false,
     "start_time": "2022-07-21T11:23:51.464264",
     "status": "completed"
    },
    "tags": []
   },
   "outputs": [
    {
     "name": "stderr",
     "output_type": "stream",
     "text": [
      "2022-07-21 11:23:51.531330: I tensorflow/compiler/mlir/mlir_graph_optimization_pass.cc:185] None of the MLIR Optimization Passes are enabled (registered 2)\n"
     ]
    },
    {
     "name": "stdout",
     "output_type": "stream",
     "text": [
      "Epoch 1/12\n"
     ]
    },
    {
     "name": "stderr",
     "output_type": "stream",
     "text": [
      "2022-07-21 11:23:55.232654: I tensorflow/stream_executor/cuda/cuda_dnn.cc:369] Loaded cuDNN version 8005\n"
     ]
    },
    {
     "name": "stdout",
     "output_type": "stream",
     "text": [
      "210/210 [==============================] - 7s 11ms/step - loss: 0.1900 - accuracy: 0.9540 - val_loss: 0.1256 - val_accuracy: 0.9644\n",
      "Epoch 2/12\n",
      "210/210 [==============================] - 2s 9ms/step - loss: 0.0944 - accuracy: 0.9729 - val_loss: 0.1112 - val_accuracy: 0.9689\n",
      "Epoch 3/12\n",
      "210/210 [==============================] - 2s 9ms/step - loss: 0.0594 - accuracy: 0.9817 - val_loss: 0.1028 - val_accuracy: 0.9732\n",
      "Epoch 4/12\n",
      "210/210 [==============================] - 2s 8ms/step - loss: 0.0389 - accuracy: 0.9887 - val_loss: 0.1094 - val_accuracy: 0.9720\n",
      "Epoch 5/12\n",
      "210/210 [==============================] - 2s 8ms/step - loss: 0.0254 - accuracy: 0.9922 - val_loss: 0.1231 - val_accuracy: 0.9738\n",
      "Epoch 6/12\n",
      "210/210 [==============================] - 2s 8ms/step - loss: 0.0133 - accuracy: 0.9961 - val_loss: 0.1607 - val_accuracy: 0.9738\n",
      "Epoch 7/12\n",
      "210/210 [==============================] - 2s 8ms/step - loss: 0.0072 - accuracy: 0.9986 - val_loss: 0.1843 - val_accuracy: 0.9747\n",
      "Epoch 8/12\n",
      "210/210 [==============================] - 2s 8ms/step - loss: 0.0054 - accuracy: 0.9987 - val_loss: 0.1879 - val_accuracy: 0.9745\n",
      "Epoch 9/12\n",
      "210/210 [==============================] - 2s 9ms/step - loss: 0.0047 - accuracy: 0.9989 - val_loss: 0.2128 - val_accuracy: 0.9738\n",
      "Epoch 10/12\n",
      "210/210 [==============================] - 2s 9ms/step - loss: 0.0055 - accuracy: 0.9985 - val_loss: 0.1703 - val_accuracy: 0.9709\n",
      "Epoch 11/12\n",
      "210/210 [==============================] - 2s 8ms/step - loss: 0.0038 - accuracy: 0.9991 - val_loss: 0.2025 - val_accuracy: 0.9649\n",
      "Epoch 12/12\n",
      "210/210 [==============================] - 2s 8ms/step - loss: 0.0039 - accuracy: 0.9993 - val_loss: 0.2002 - val_accuracy: 0.9749\n"
     ]
    },
    {
     "data": {
      "text/plain": [
       "<keras.callbacks.History at 0x7f69484fcc10>"
      ]
     },
     "execution_count": 62,
     "metadata": {},
     "output_type": "execute_result"
    }
   ],
   "source": [
    "model1.fit(X_train,y_train,validation_data=(X_test,y_test),epochs=12,batch_size=64)"
   ]
  },
  {
   "cell_type": "markdown",
   "id": "ad29e440",
   "metadata": {
    "papermill": {
     "duration": 0.043839,
     "end_time": "2022-07-21T11:24:18.853208",
     "exception": false,
     "start_time": "2022-07-21T11:24:18.809369",
     "status": "completed"
    },
    "tags": []
   },
   "source": [
    "# Model Performance and Accuracy:\n"
   ]
  },
  {
   "cell_type": "code",
   "execution_count": 63,
   "id": "f8ef485d",
   "metadata": {
    "execution": {
     "iopub.execute_input": "2022-07-21T11:24:18.943317Z",
     "iopub.status.busy": "2022-07-21T11:24:18.942408Z",
     "iopub.status.idle": "2022-07-21T11:24:19.824674Z",
     "shell.execute_reply": "2022-07-21T11:24:19.823766Z"
    },
    "papermill": {
     "duration": 0.928846,
     "end_time": "2022-07-21T11:24:19.826783",
     "exception": false,
     "start_time": "2022-07-21T11:24:18.897937",
     "status": "completed"
    },
    "tags": []
   },
   "outputs": [
    {
     "data": {
      "text/plain": [
       "array([[6.3997260e-07],\n",
       "       [5.9522154e-07],\n",
       "       [5.3688109e-07],\n",
       "       ...,\n",
       "       [9.9999118e-01],\n",
       "       [2.1392701e-07],\n",
       "       [1.2854945e-03]], dtype=float32)"
      ]
     },
     "execution_count": 63,
     "metadata": {},
     "output_type": "execute_result"
    }
   ],
   "source": [
    "y_pred=model1.predict(X_test)\n",
    "y_pred"
   ]
  },
  {
   "cell_type": "code",
   "execution_count": 64,
   "id": "7c49491d",
   "metadata": {
    "execution": {
     "iopub.execute_input": "2022-07-21T11:24:19.916489Z",
     "iopub.status.busy": "2022-07-21T11:24:19.916191Z",
     "iopub.status.idle": "2022-07-21T11:24:19.932321Z",
     "shell.execute_reply": "2022-07-21T11:24:19.931457Z"
    },
    "papermill": {
     "duration": 0.06294,
     "end_time": "2022-07-21T11:24:19.934374",
     "exception": false,
     "start_time": "2022-07-21T11:24:19.871434",
     "status": "completed"
    },
    "tags": []
   },
   "outputs": [
    {
     "data": {
      "text/plain": [
       "[0, 0, 0, 0, 0, 0, 0, 0, 0, 0, 0, 0, 0, 0, 0]"
      ]
     },
     "execution_count": 64,
     "metadata": {},
     "output_type": "execute_result"
    }
   ],
   "source": [
    "y_pred = [1 if x >=0.5 else 0 for x in y_pred]\n",
    "y_pred[5:20]"
   ]
  },
  {
   "cell_type": "code",
   "execution_count": 65,
   "id": "a9e2a56d",
   "metadata": {
    "execution": {
     "iopub.execute_input": "2022-07-21T11:24:20.024764Z",
     "iopub.status.busy": "2022-07-21T11:24:20.024462Z",
     "iopub.status.idle": "2022-07-21T11:24:20.033809Z",
     "shell.execute_reply": "2022-07-21T11:24:20.032823Z"
    },
    "papermill": {
     "duration": 0.057289,
     "end_time": "2022-07-21T11:24:20.035738",
     "exception": false,
     "start_time": "2022-07-21T11:24:19.978449",
     "status": "completed"
    },
    "tags": []
   },
   "outputs": [
    {
     "data": {
      "text/plain": [
       "array([[4218,   29],\n",
       "       [  83,  140]])"
      ]
     },
     "execution_count": 65,
     "metadata": {},
     "output_type": "execute_result"
    }
   ],
   "source": [
    "confusion_matrix(y_test,y_pred)"
   ]
  },
  {
   "cell_type": "code",
   "execution_count": 66,
   "id": "43252c2e",
   "metadata": {
    "execution": {
     "iopub.execute_input": "2022-07-21T11:24:20.124762Z",
     "iopub.status.busy": "2022-07-21T11:24:20.124493Z",
     "iopub.status.idle": "2022-07-21T11:24:20.135481Z",
     "shell.execute_reply": "2022-07-21T11:24:20.134124Z"
    },
    "papermill": {
     "duration": 0.058045,
     "end_time": "2022-07-21T11:24:20.138006",
     "exception": false,
     "start_time": "2022-07-21T11:24:20.079961",
     "status": "completed"
    },
    "tags": []
   },
   "outputs": [
    {
     "name": "stdout",
     "output_type": "stream",
     "text": [
      "Accuracy  97.5 %\n"
     ]
    }
   ],
   "source": [
    "accuracy_score(y_test,y_pred)\n",
    "print(\"Accuracy  {:.3} %\".format(accuracy_score(y_test, y_pred)*100))"
   ]
  },
  {
   "cell_type": "code",
   "execution_count": 67,
   "id": "dce4ae1c",
   "metadata": {
    "execution": {
     "iopub.execute_input": "2022-07-21T11:24:20.227865Z",
     "iopub.status.busy": "2022-07-21T11:24:20.227572Z",
     "iopub.status.idle": "2022-07-21T11:24:20.244321Z",
     "shell.execute_reply": "2022-07-21T11:24:20.242785Z"
    },
    "papermill": {
     "duration": 0.065643,
     "end_time": "2022-07-21T11:24:20.247660",
     "exception": false,
     "start_time": "2022-07-21T11:24:20.182017",
     "status": "completed"
    },
    "tags": []
   },
   "outputs": [
    {
     "name": "stdout",
     "output_type": "stream",
     "text": [
      "              precision    recall  f1-score   support\n",
      "\n",
      "           0       0.98      0.99      0.99      4247\n",
      "           1       0.83      0.63      0.71       223\n",
      "\n",
      "    accuracy                           0.97      4470\n",
      "   macro avg       0.90      0.81      0.85      4470\n",
      "weighted avg       0.97      0.97      0.97      4470\n",
      "\n"
     ]
    }
   ],
   "source": [
    "print(classification_report(y_test,y_pred))"
   ]
  },
  {
   "cell_type": "markdown",
   "id": "368328c0",
   "metadata": {
    "papermill": {
     "duration": 0.044563,
     "end_time": "2022-07-21T11:24:20.336262",
     "exception": false,
     "start_time": "2022-07-21T11:24:20.291699",
     "status": "completed"
    },
    "tags": []
   },
   "source": [
    "# Therefore,after comparing results:"
   ]
  },
  {
   "cell_type": "code",
   "execution_count": 68,
   "id": "31ca95b2",
   "metadata": {
    "execution": {
     "iopub.execute_input": "2022-07-21T11:24:20.426132Z",
     "iopub.status.busy": "2022-07-21T11:24:20.425804Z",
     "iopub.status.idle": "2022-07-21T11:24:20.432756Z",
     "shell.execute_reply": "2022-07-21T11:24:20.431744Z"
    },
    "papermill": {
     "duration": 0.055269,
     "end_time": "2022-07-21T11:24:20.435878",
     "exception": false,
     "start_time": "2022-07-21T11:24:20.380609",
     "status": "completed"
    },
    "tags": []
   },
   "outputs": [
    {
     "name": "stdout",
     "output_type": "stream",
     "text": [
      "Naive Bayes Accuracy  85.9 %\n"
     ]
    }
   ],
   "source": [
    "#Accuracy score for Naive Bayes features\n",
    "\n",
    "nb_tfidf_score=accuracy_score(test_y, nb_tfidf_predict)\n",
    "print(\"Naive Bayes Accuracy  {:.3} %\".format(accuracy_score(test_y, nb_tfidf_predict)*100))"
   ]
  },
  {
   "cell_type": "code",
   "execution_count": 69,
   "id": "e2733f68",
   "metadata": {
    "execution": {
     "iopub.execute_input": "2022-07-21T11:24:20.527177Z",
     "iopub.status.busy": "2022-07-21T11:24:20.526423Z",
     "iopub.status.idle": "2022-07-21T11:24:20.532488Z",
     "shell.execute_reply": "2022-07-21T11:24:20.531492Z"
    },
    "papermill": {
     "duration": 0.053969,
     "end_time": "2022-07-21T11:24:20.535340",
     "exception": false,
     "start_time": "2022-07-21T11:24:20.481371",
     "status": "completed"
    },
    "tags": []
   },
   "outputs": [
    {
     "name": "stdout",
     "output_type": "stream",
     "text": [
      "Support Vector Machine Accuracy  95.7 %\n"
     ]
    }
   ],
   "source": [
    "print(\"Support Vector Machine Accuracy  {:.3} %\".format(accuracy_score(predicted, test_y)*100))"
   ]
  },
  {
   "cell_type": "code",
   "execution_count": 70,
   "id": "3aa51cae",
   "metadata": {
    "execution": {
     "iopub.execute_input": "2022-07-21T11:24:20.626047Z",
     "iopub.status.busy": "2022-07-21T11:24:20.625766Z",
     "iopub.status.idle": "2022-07-21T11:24:20.646552Z",
     "shell.execute_reply": "2022-07-21T11:24:20.645678Z"
    },
    "papermill": {
     "duration": 0.068531,
     "end_time": "2022-07-21T11:24:20.648731",
     "exception": false,
     "start_time": "2022-07-21T11:24:20.580200",
     "status": "completed"
    },
    "tags": []
   },
   "outputs": [
    {
     "name": "stdout",
     "output_type": "stream",
     "text": [
      "BiLSTM Accuracy  97.5 %\n",
      "              precision    recall  f1-score   support\n",
      "\n",
      "           0       0.98      0.99      0.99      4247\n",
      "           1       0.83      0.63      0.71       223\n",
      "\n",
      "    accuracy                           0.97      4470\n",
      "   macro avg       0.90      0.81      0.85      4470\n",
      "weighted avg       0.97      0.97      0.97      4470\n",
      "\n"
     ]
    }
   ],
   "source": [
    "print(\"BiLSTM Accuracy  {:.3} %\".format(accuracy_score(y_test, y_pred)*100))\n",
    "print(classification_report(y_test,y_pred))"
   ]
  }
 ],
 "metadata": {
  "kernelspec": {
   "display_name": "Python 3",
   "language": "python",
   "name": "python3"
  },
  "language_info": {
   "codemirror_mode": {
    "name": "ipython",
    "version": 3
   },
   "file_extension": ".py",
   "mimetype": "text/x-python",
   "name": "python",
   "nbconvert_exporter": "python",
   "pygments_lexer": "ipython3",
   "version": "3.7.12"
  },
  "papermill": {
   "default_parameters": {},
   "duration": 650.495292,
   "end_time": "2022-07-21T11:24:23.581211",
   "environment_variables": {},
   "exception": null,
   "input_path": "__notebook__.ipynb",
   "output_path": "__notebook__.ipynb",
   "parameters": {},
   "start_time": "2022-07-21T11:13:33.085919",
   "version": "2.3.4"
  }
 },
 "nbformat": 4,
 "nbformat_minor": 5
}
